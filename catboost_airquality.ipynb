{
  "cells": [
    {
      "cell_type": "markdown",
      "metadata": {
        "id": "view-in-github",
        "colab_type": "text"
      },
      "source": [
        "<a href=\"https://colab.research.google.com/github/koleshjr/Predicting-Air-Quality-in-Uganda/blob/main/catboost_airquality.ipynb\" target=\"_parent\"><img src=\"https://colab.research.google.com/assets/colab-badge.svg\" alt=\"Open In Colab\"/></a>"
      ]
    },
    {
      "cell_type": "markdown",
      "source": [
        "# AIR QUALITY"
      ],
      "metadata": {
        "id": "xyl4z2rVutjh"
      }
    },
    {
      "cell_type": "markdown",
      "source": [
        "## Install necesssary Libraries"
      ],
      "metadata": {
        "id": "Sao_CdPSAwL7"
      }
    },
    {
      "cell_type": "code",
      "source": [
        "# !pip install catboost\n",
        "# !pip install optuna\n",
        "# # !pip install geopy\n",
        "# !pip install -U layer"
      ],
      "metadata": {
        "id": "KRHpkyGkuxpw"
      },
      "execution_count": null,
      "outputs": []
    },
    {
      "cell_type": "markdown",
      "source": [
        "## Setup Layer"
      ],
      "metadata": {
        "id": "568xtGovA0YW"
      }
    },
    {
      "cell_type": "code",
      "source": [
        "import layer\n",
        "from layer.decorators import dataset,model, pip_requirements\n",
        "layer.login()\n"
      ],
      "metadata": {
        "colab": {
          "base_uri": "https://localhost:8080/"
        },
        "id": "OIPEgE1Du5CY",
        "outputId": "be93870c-9088-454b-8dd3-91ec4361d5e7"
      },
      "execution_count": null,
      "outputs": [
        {
          "output_type": "stream",
          "name": "stdout",
          "text": [
            "Please open the following link in your web browser. Once logged in, copy the code and paste it here.\n",
            "https://app.layer.ai/oauth/authorize?response_type=code&code_challenge=-3xBipvEKi3rm_V639BTYMl-lrUgcYfUP5_ZRYjv6SY&code_challenge_method=S256&client_id=0STDdcnpK48P8A429EAAn93WNuLmViLR&redirect_uri=https://app.layer.ai/oauth/code&scope=offline_access&audience=https://app.layer.ai\n",
            "Code: OHD9WtkGSyepEoXtj_wZYB8xzqs720n5ACCZq-PZxw0Uh\n",
            "Successfully logged into https://app.layer.ai\n"
          ]
        }
      ]
    },
    {
      "cell_type": "code",
      "source": [
        "layer.init(\"sample-air-quality-Grouped-Time-Series\")"
      ],
      "metadata": {
        "colab": {
          "base_uri": "https://localhost:8080/"
        },
        "id": "D4C6MXaZu5sA",
        "outputId": "20d49bd8-c0f2-411a-ef25-fd81ec11702d"
      },
      "execution_count": null,
      "outputs": [
        {
          "output_type": "execute_result",
          "data": {
            "text/plain": [
              "Your Layer project is here: https://app.layer.ai/koleshjr/sample-air-quality-Grouped-Time-Series"
            ]
          },
          "metadata": {},
          "execution_count": 5
        }
      ]
    },
    {
      "cell_type": "markdown",
      "source": [
        "## Import necessary Libraries"
      ],
      "metadata": {
        "id": "mHDEoo7GA4-D"
      }
    },
    {
      "cell_type": "code",
      "source": [
        "# Import libraries\n",
        "import pandas as pd\n",
        "import numpy as np\n",
        "import matplotlib.pyplot as plt\n",
        "import seaborn as sns\n",
        "\n",
        "import catboost as catt\n",
        "import xgboost as xgb\n",
        "import lightgbm as lgb\n",
        "from sklearn.ensemble import RandomForestRegressor, GradientBoostingRegressor\n",
        "from sklearn.linear_model import LinearRegression\n",
        "\n",
        "from tqdm.notebook import tqdm as tqdm_notebook\n",
        "\n",
        "from sklearn.model_selection import train_test_split, KFold,GroupKFold,TimeSeriesSplit, StratifiedKFold\n",
        "\n",
        "from sklearn.metrics import mean_squared_error, mean_absolute_error\n",
        "\n",
        "pd.options.display.float_format = '{:.5f}'.format\n",
        "pd.options.display.max_rows = 2200\n",
        "pd.options.display.max_columns = 2200\n",
        "\n",
        "%matplotlib inline\n",
        "import warnings\n",
        "warnings.filterwarnings('ignore')\n",
        "\n",
        "import optuna\n",
        "\n",
        "from geopy.geocoders import Nominatim\n",
        "from geopy.point import Point\n",
        "import requests\n",
        "from io import StringIO "
      ],
      "metadata": {
        "id": "FpG1ZvVEusQe"
      },
      "execution_count": null,
      "outputs": []
    },
    {
      "cell_type": "markdown",
      "source": [
        "## fetch datasets from layer"
      ],
      "metadata": {
        "id": "xx-J7OzTA-2Q"
      }
    },
    {
      "cell_type": "code",
      "execution_count": null,
      "metadata": {
        "colab": {
          "base_uri": "https://localhost:8080/",
          "height": 73,
          "referenced_widgets": [
            "df6eb34c87fb4feeaee646689d1c97b1",
            "32b2dfe39882450fb4784fc9c1cb1eca",
            "3dd3f9e2e9aa4817ab9a828df87c469f",
            "038016f346a64a95a1c8aeaed4ec92cd",
            "4a6b8968cb6749afb527bf3a75a45b09",
            "8c1c69dadcc64cf3af286cc1ad0e0adb"
          ]
        },
        "id": "4khdMjdNsKQo",
        "outputId": "9125386b-6dfc-40e9-dfb1-caf1e767a6b2"
      },
      "outputs": [
        {
          "output_type": "display_data",
          "data": {
            "text/plain": [
              "Output()"
            ],
            "application/vnd.jupyter.widget-view+json": {
              "version_major": 2,
              "version_minor": 0,
              "model_id": "df6eb34c87fb4feeaee646689d1c97b1"
            }
          },
          "metadata": {}
        },
        {
          "output_type": "display_data",
          "data": {
            "text/plain": [],
            "text/html": [
              "<pre style=\"white-space:pre;overflow-x:auto;line-height:normal;font-family:Menlo,'DejaVu Sans Mono',consolas,'Courier New',monospace\"></pre>\n"
            ]
          },
          "metadata": {}
        },
        {
          "output_type": "display_data",
          "data": {
            "text/plain": [
              "\n"
            ],
            "text/html": [
              "<pre style=\"white-space:pre;overflow-x:auto;line-height:normal;font-family:Menlo,'DejaVu Sans Mono',consolas,'Courier New',monospace\">\n",
              "</pre>\n"
            ]
          },
          "metadata": {}
        },
        {
          "output_type": "display_data",
          "data": {
            "text/plain": [
              "Output()"
            ],
            "application/vnd.jupyter.widget-view+json": {
              "version_major": 2,
              "version_minor": 0,
              "model_id": "3dd3f9e2e9aa4817ab9a828df87c469f"
            }
          },
          "metadata": {}
        },
        {
          "output_type": "display_data",
          "data": {
            "text/plain": [],
            "text/html": [
              "<pre style=\"white-space:pre;overflow-x:auto;line-height:normal;font-family:Menlo,'DejaVu Sans Mono',consolas,'Courier New',monospace\"></pre>\n"
            ]
          },
          "metadata": {}
        },
        {
          "output_type": "display_data",
          "data": {
            "text/plain": [
              "\n"
            ],
            "text/html": [
              "<pre style=\"white-space:pre;overflow-x:auto;line-height:normal;font-family:Menlo,'DejaVu Sans Mono',consolas,'Courier New',monospace\">\n",
              "</pre>\n"
            ]
          },
          "metadata": {}
        },
        {
          "output_type": "display_data",
          "data": {
            "text/plain": [
              "Output()"
            ],
            "application/vnd.jupyter.widget-view+json": {
              "version_major": 2,
              "version_minor": 0,
              "model_id": "4a6b8968cb6749afb527bf3a75a45b09"
            }
          },
          "metadata": {}
        },
        {
          "output_type": "display_data",
          "data": {
            "text/plain": [],
            "text/html": [
              "<pre style=\"white-space:pre;overflow-x:auto;line-height:normal;font-family:Menlo,'DejaVu Sans Mono',consolas,'Courier New',monospace\"></pre>\n"
            ]
          },
          "metadata": {}
        },
        {
          "output_type": "display_data",
          "data": {
            "text/plain": [
              "\n"
            ],
            "text/html": [
              "<pre style=\"white-space:pre;overflow-x:auto;line-height:normal;font-family:Menlo,'DejaVu Sans Mono',consolas,'Courier New',monospace\">\n",
              "</pre>\n"
            ]
          },
          "metadata": {}
        }
      ],
      "source": [
        "sub= layer.get_dataset(\"zindi/air-quality/datasets/sample_submission\").to_pandas()\n",
        "test = layer.get_dataset(\"zindi/air-quality/datasets/test\").to_pandas()\n",
        "train = layer.get_dataset(\"zindi/air-quality/datasets/train\").to_pandas()"
      ]
    },
    {
      "cell_type": "code",
      "execution_count": null,
      "metadata": {
        "colab": {
          "base_uri": "https://localhost:8080/",
          "height": 177
        },
        "id": "EfAHGrj7sKQq",
        "outputId": "f420cb8f-1ceb-4118-a05b-9a025d5326bd"
      },
      "outputs": [
        {
          "output_type": "execute_result",
          "data": {
            "text/plain": [
              "              ID        date    device  site_latitude  site_longitude  \\\n",
              "0  ID_JBYXJEUZ8X  2020-03-18  ANQ16PZJ        0.35346        32.56032   \n",
              "1  ID_PEJJNLBUPR  2019-10-13  AB6051M4        0.39074        32.58226   \n",
              "\n",
              "   humidity  temp_mean  SulphurDioxide_SO2_column_number_density  \\\n",
              "0   0.84684   22.03854                                  -0.00014   \n",
              "1   0.87449   21.54583                                       NaN   \n",
              "\n",
              "   SulphurDioxide_SO2_column_number_density_amf  \\\n",
              "0                                       1.04263   \n",
              "1                                           NaN   \n",
              "\n",
              "   SulphurDioxide_SO2_slant_column_number_density  \\\n",
              "0                                        -0.00014   \n",
              "1                                             NaN   \n",
              "\n",
              "   SulphurDioxide_cloud_fraction  SulphurDioxide_sensor_azimuth_angle  \\\n",
              "0                        0.29136                             76.59491   \n",
              "1                            NaN                                  NaN   \n",
              "\n",
              "   SulphurDioxide_sensor_zenith_angle  SulphurDioxide_solar_azimuth_angle  \\\n",
              "0                            10.25336                           -93.09162   \n",
              "1                                 NaN                                 NaN   \n",
              "\n",
              "   SulphurDioxide_solar_zenith_angle  \\\n",
              "0                           19.18137   \n",
              "1                                NaN   \n",
              "\n",
              "   SulphurDioxide_SO2_column_number_density_15km  \\\n",
              "0                                       -0.00001   \n",
              "1                                            NaN   \n",
              "\n",
              "   CarbonMonoxide_CO_column_number_density  \\\n",
              "0                                  0.03374   \n",
              "1                                      NaN   \n",
              "\n",
              "   CarbonMonoxide_H2O_column_number_density  CarbonMonoxide_cloud_height  \\\n",
              "0                                2457.11182                   1353.66467   \n",
              "1                                       NaN                          NaN   \n",
              "\n",
              "   CarbonMonoxide_sensor_altitude  CarbonMonoxide_sensor_azimuth_angle  \\\n",
              "0                    829636.00000                             70.37299   \n",
              "1                             NaN                                  NaN   \n",
              "\n",
              "   CarbonMonoxide_sensor_zenith_angle  CarbonMonoxide_solar_azimuth_angle  \\\n",
              "0                            10.31243                           -93.00801   \n",
              "1                                 NaN                                 NaN   \n",
              "\n",
              "   CarbonMonoxide_solar_zenith_angle  \\\n",
              "0                           19.19493   \n",
              "1                                NaN   \n",
              "\n",
              "   NitrogenDioxide_NO2_column_number_density  \\\n",
              "0                                        NaN   \n",
              "1                                        NaN   \n",
              "\n",
              "   NitrogenDioxide_tropospheric_NO2_column_number_density  \\\n",
              "0                                                NaN        \n",
              "1                                                NaN        \n",
              "\n",
              "   NitrogenDioxide_stratospheric_NO2_column_number_density  \\\n",
              "0                                                NaN         \n",
              "1                                                NaN         \n",
              "\n",
              "   NitrogenDioxide_NO2_slant_column_number_density  \\\n",
              "0                                              NaN   \n",
              "1                                              NaN   \n",
              "\n",
              "   NitrogenDioxide_tropopause_pressure  \\\n",
              "0                                  NaN   \n",
              "1                                  NaN   \n",
              "\n",
              "   NitrogenDioxide_absorbing_aerosol_index  NitrogenDioxide_cloud_fraction  \\\n",
              "0                                      NaN                             NaN   \n",
              "1                                      NaN                             NaN   \n",
              "\n",
              "   NitrogenDioxide_sensor_altitude  NitrogenDioxide_sensor_azimuth_angle  \\\n",
              "0                              NaN                                   NaN   \n",
              "1                              NaN                                   NaN   \n",
              "\n",
              "   NitrogenDioxide_sensor_zenith_angle  NitrogenDioxide_solar_azimuth_angle  \\\n",
              "0                                  NaN                                  NaN   \n",
              "1                                  NaN                                  NaN   \n",
              "\n",
              "   NitrogenDioxide_solar_zenith_angle  \\\n",
              "0                                 NaN   \n",
              "1                                 NaN   \n",
              "\n",
              "   Formaldehyde_tropospheric_HCHO_column_number_density  \\\n",
              "0                                            0.00012      \n",
              "1                                                NaN      \n",
              "\n",
              "   Formaldehyde_tropospheric_HCHO_column_number_density_amf  \\\n",
              "0                                            1.54410          \n",
              "1                                                NaN          \n",
              "\n",
              "   Formaldehyde_HCHO_slant_column_number_density  Formaldehyde_cloud_fraction  \\\n",
              "0                                        0.00009                      0.29136   \n",
              "1                                            NaN                          NaN   \n",
              "\n",
              "   Formaldehyde_solar_zenith_angle  Formaldehyde_solar_azimuth_angle  \\\n",
              "0                         19.18137                         -93.09162   \n",
              "1                              NaN                               NaN   \n",
              "\n",
              "   Formaldehyde_sensor_zenith_angle  Formaldehyde_sensor_azimuth_angle  \\\n",
              "0                          10.25336                           76.59491   \n",
              "1                               NaN                                NaN   \n",
              "\n",
              "   UvAerosolIndex_absorbing_aerosol_index  UvAerosolIndex_sensor_altitude  \\\n",
              "0                                -1.64226                    829649.46231   \n",
              "1                                 0.21781                    829826.62500   \n",
              "\n",
              "   UvAerosolIndex_sensor_azimuth_angle  UvAerosolIndex_sensor_zenith_angle  \\\n",
              "0                             76.61416                            10.02307   \n",
              "1                            -97.72382                            58.45699   \n",
              "\n",
              "   UvAerosolIndex_solar_azimuth_angle  UvAerosolIndex_solar_zenith_angle  \\\n",
              "0                           -93.10610                           19.20809   \n",
              "1                          -103.69569                           36.37274   \n",
              "\n",
              "   Ozone_O3_column_number_density  Ozone_O3_column_number_density_amf  \\\n",
              "0                         0.11678                             2.08862   \n",
              "1                         0.11728                             3.03799   \n",
              "\n",
              "   Ozone_O3_slant_column_number_density  Ozone_O3_effective_temperature  \\\n",
              "0                               0.24753                       228.15512   \n",
              "1                               0.35978                       226.43236   \n",
              "\n",
              "   Ozone_cloud_fraction  Ozone_sensor_azimuth_angle  \\\n",
              "0               0.41042                    76.61416   \n",
              "1               0.46068                   -97.72382   \n",
              "\n",
              "   Ozone_sensor_zenith_angle  Ozone_solar_azimuth_angle  \\\n",
              "0                   10.02307                  -93.10610   \n",
              "1                   58.45699                 -103.69569   \n",
              "\n",
              "   Ozone_solar_zenith_angle  Cloud_cloud_fraction  Cloud_cloud_top_pressure  \\\n",
              "0                  19.20809               0.43680               61535.80469   \n",
              "1                  36.37274                   NaN                       NaN   \n",
              "\n",
              "   Cloud_cloud_top_height  Cloud_cloud_base_pressure  Cloud_cloud_base_height  \\\n",
              "0              4181.79297                69589.45312               3181.79346   \n",
              "1                     NaN                        NaN                      NaN   \n",
              "\n",
              "   Cloud_cloud_optical_depth  Cloud_surface_albedo  \\\n",
              "0                    7.79985               0.27811   \n",
              "1                        NaN                   NaN   \n",
              "\n",
              "   Cloud_sensor_azimuth_angle  Cloud_sensor_zenith_angle  \\\n",
              "0                    76.61855                    9.97029   \n",
              "1                         NaN                        NaN   \n",
              "\n",
              "   Cloud_solar_azimuth_angle  Cloud_solar_zenith_angle    pm2_5  \n",
              "0                  -93.11007                  19.21419 63.85333  \n",
              "1                        NaN                       NaN 32.50708  "
            ],
            "text/html": [
              "\n",
              "  <div id=\"df-494e12d9-1b61-4f3c-b181-d12214a99159\">\n",
              "    <div class=\"colab-df-container\">\n",
              "      <div>\n",
              "<style scoped>\n",
              "    .dataframe tbody tr th:only-of-type {\n",
              "        vertical-align: middle;\n",
              "    }\n",
              "\n",
              "    .dataframe tbody tr th {\n",
              "        vertical-align: top;\n",
              "    }\n",
              "\n",
              "    .dataframe thead th {\n",
              "        text-align: right;\n",
              "    }\n",
              "</style>\n",
              "<table border=\"1\" class=\"dataframe\">\n",
              "  <thead>\n",
              "    <tr style=\"text-align: right;\">\n",
              "      <th></th>\n",
              "      <th>ID</th>\n",
              "      <th>date</th>\n",
              "      <th>device</th>\n",
              "      <th>site_latitude</th>\n",
              "      <th>site_longitude</th>\n",
              "      <th>humidity</th>\n",
              "      <th>temp_mean</th>\n",
              "      <th>SulphurDioxide_SO2_column_number_density</th>\n",
              "      <th>SulphurDioxide_SO2_column_number_density_amf</th>\n",
              "      <th>SulphurDioxide_SO2_slant_column_number_density</th>\n",
              "      <th>SulphurDioxide_cloud_fraction</th>\n",
              "      <th>SulphurDioxide_sensor_azimuth_angle</th>\n",
              "      <th>SulphurDioxide_sensor_zenith_angle</th>\n",
              "      <th>SulphurDioxide_solar_azimuth_angle</th>\n",
              "      <th>SulphurDioxide_solar_zenith_angle</th>\n",
              "      <th>SulphurDioxide_SO2_column_number_density_15km</th>\n",
              "      <th>CarbonMonoxide_CO_column_number_density</th>\n",
              "      <th>CarbonMonoxide_H2O_column_number_density</th>\n",
              "      <th>CarbonMonoxide_cloud_height</th>\n",
              "      <th>CarbonMonoxide_sensor_altitude</th>\n",
              "      <th>CarbonMonoxide_sensor_azimuth_angle</th>\n",
              "      <th>CarbonMonoxide_sensor_zenith_angle</th>\n",
              "      <th>CarbonMonoxide_solar_azimuth_angle</th>\n",
              "      <th>CarbonMonoxide_solar_zenith_angle</th>\n",
              "      <th>NitrogenDioxide_NO2_column_number_density</th>\n",
              "      <th>NitrogenDioxide_tropospheric_NO2_column_number_density</th>\n",
              "      <th>NitrogenDioxide_stratospheric_NO2_column_number_density</th>\n",
              "      <th>NitrogenDioxide_NO2_slant_column_number_density</th>\n",
              "      <th>NitrogenDioxide_tropopause_pressure</th>\n",
              "      <th>NitrogenDioxide_absorbing_aerosol_index</th>\n",
              "      <th>NitrogenDioxide_cloud_fraction</th>\n",
              "      <th>NitrogenDioxide_sensor_altitude</th>\n",
              "      <th>NitrogenDioxide_sensor_azimuth_angle</th>\n",
              "      <th>NitrogenDioxide_sensor_zenith_angle</th>\n",
              "      <th>NitrogenDioxide_solar_azimuth_angle</th>\n",
              "      <th>NitrogenDioxide_solar_zenith_angle</th>\n",
              "      <th>Formaldehyde_tropospheric_HCHO_column_number_density</th>\n",
              "      <th>Formaldehyde_tropospheric_HCHO_column_number_density_amf</th>\n",
              "      <th>Formaldehyde_HCHO_slant_column_number_density</th>\n",
              "      <th>Formaldehyde_cloud_fraction</th>\n",
              "      <th>Formaldehyde_solar_zenith_angle</th>\n",
              "      <th>Formaldehyde_solar_azimuth_angle</th>\n",
              "      <th>Formaldehyde_sensor_zenith_angle</th>\n",
              "      <th>Formaldehyde_sensor_azimuth_angle</th>\n",
              "      <th>UvAerosolIndex_absorbing_aerosol_index</th>\n",
              "      <th>UvAerosolIndex_sensor_altitude</th>\n",
              "      <th>UvAerosolIndex_sensor_azimuth_angle</th>\n",
              "      <th>UvAerosolIndex_sensor_zenith_angle</th>\n",
              "      <th>UvAerosolIndex_solar_azimuth_angle</th>\n",
              "      <th>UvAerosolIndex_solar_zenith_angle</th>\n",
              "      <th>Ozone_O3_column_number_density</th>\n",
              "      <th>Ozone_O3_column_number_density_amf</th>\n",
              "      <th>Ozone_O3_slant_column_number_density</th>\n",
              "      <th>Ozone_O3_effective_temperature</th>\n",
              "      <th>Ozone_cloud_fraction</th>\n",
              "      <th>Ozone_sensor_azimuth_angle</th>\n",
              "      <th>Ozone_sensor_zenith_angle</th>\n",
              "      <th>Ozone_solar_azimuth_angle</th>\n",
              "      <th>Ozone_solar_zenith_angle</th>\n",
              "      <th>Cloud_cloud_fraction</th>\n",
              "      <th>Cloud_cloud_top_pressure</th>\n",
              "      <th>Cloud_cloud_top_height</th>\n",
              "      <th>Cloud_cloud_base_pressure</th>\n",
              "      <th>Cloud_cloud_base_height</th>\n",
              "      <th>Cloud_cloud_optical_depth</th>\n",
              "      <th>Cloud_surface_albedo</th>\n",
              "      <th>Cloud_sensor_azimuth_angle</th>\n",
              "      <th>Cloud_sensor_zenith_angle</th>\n",
              "      <th>Cloud_solar_azimuth_angle</th>\n",
              "      <th>Cloud_solar_zenith_angle</th>\n",
              "      <th>pm2_5</th>\n",
              "    </tr>\n",
              "  </thead>\n",
              "  <tbody>\n",
              "    <tr>\n",
              "      <th>0</th>\n",
              "      <td>ID_JBYXJEUZ8X</td>\n",
              "      <td>2020-03-18</td>\n",
              "      <td>ANQ16PZJ</td>\n",
              "      <td>0.35346</td>\n",
              "      <td>32.56032</td>\n",
              "      <td>0.84684</td>\n",
              "      <td>22.03854</td>\n",
              "      <td>-0.00014</td>\n",
              "      <td>1.04263</td>\n",
              "      <td>-0.00014</td>\n",
              "      <td>0.29136</td>\n",
              "      <td>76.59491</td>\n",
              "      <td>10.25336</td>\n",
              "      <td>-93.09162</td>\n",
              "      <td>19.18137</td>\n",
              "      <td>-0.00001</td>\n",
              "      <td>0.03374</td>\n",
              "      <td>2457.11182</td>\n",
              "      <td>1353.66467</td>\n",
              "      <td>829636.00000</td>\n",
              "      <td>70.37299</td>\n",
              "      <td>10.31243</td>\n",
              "      <td>-93.00801</td>\n",
              "      <td>19.19493</td>\n",
              "      <td>NaN</td>\n",
              "      <td>NaN</td>\n",
              "      <td>NaN</td>\n",
              "      <td>NaN</td>\n",
              "      <td>NaN</td>\n",
              "      <td>NaN</td>\n",
              "      <td>NaN</td>\n",
              "      <td>NaN</td>\n",
              "      <td>NaN</td>\n",
              "      <td>NaN</td>\n",
              "      <td>NaN</td>\n",
              "      <td>NaN</td>\n",
              "      <td>0.00012</td>\n",
              "      <td>1.54410</td>\n",
              "      <td>0.00009</td>\n",
              "      <td>0.29136</td>\n",
              "      <td>19.18137</td>\n",
              "      <td>-93.09162</td>\n",
              "      <td>10.25336</td>\n",
              "      <td>76.59491</td>\n",
              "      <td>-1.64226</td>\n",
              "      <td>829649.46231</td>\n",
              "      <td>76.61416</td>\n",
              "      <td>10.02307</td>\n",
              "      <td>-93.10610</td>\n",
              "      <td>19.20809</td>\n",
              "      <td>0.11678</td>\n",
              "      <td>2.08862</td>\n",
              "      <td>0.24753</td>\n",
              "      <td>228.15512</td>\n",
              "      <td>0.41042</td>\n",
              "      <td>76.61416</td>\n",
              "      <td>10.02307</td>\n",
              "      <td>-93.10610</td>\n",
              "      <td>19.20809</td>\n",
              "      <td>0.43680</td>\n",
              "      <td>61535.80469</td>\n",
              "      <td>4181.79297</td>\n",
              "      <td>69589.45312</td>\n",
              "      <td>3181.79346</td>\n",
              "      <td>7.79985</td>\n",
              "      <td>0.27811</td>\n",
              "      <td>76.61855</td>\n",
              "      <td>9.97029</td>\n",
              "      <td>-93.11007</td>\n",
              "      <td>19.21419</td>\n",
              "      <td>63.85333</td>\n",
              "    </tr>\n",
              "    <tr>\n",
              "      <th>1</th>\n",
              "      <td>ID_PEJJNLBUPR</td>\n",
              "      <td>2019-10-13</td>\n",
              "      <td>AB6051M4</td>\n",
              "      <td>0.39074</td>\n",
              "      <td>32.58226</td>\n",
              "      <td>0.87449</td>\n",
              "      <td>21.54583</td>\n",
              "      <td>NaN</td>\n",
              "      <td>NaN</td>\n",
              "      <td>NaN</td>\n",
              "      <td>NaN</td>\n",
              "      <td>NaN</td>\n",
              "      <td>NaN</td>\n",
              "      <td>NaN</td>\n",
              "      <td>NaN</td>\n",
              "      <td>NaN</td>\n",
              "      <td>NaN</td>\n",
              "      <td>NaN</td>\n",
              "      <td>NaN</td>\n",
              "      <td>NaN</td>\n",
              "      <td>NaN</td>\n",
              "      <td>NaN</td>\n",
              "      <td>NaN</td>\n",
              "      <td>NaN</td>\n",
              "      <td>NaN</td>\n",
              "      <td>NaN</td>\n",
              "      <td>NaN</td>\n",
              "      <td>NaN</td>\n",
              "      <td>NaN</td>\n",
              "      <td>NaN</td>\n",
              "      <td>NaN</td>\n",
              "      <td>NaN</td>\n",
              "      <td>NaN</td>\n",
              "      <td>NaN</td>\n",
              "      <td>NaN</td>\n",
              "      <td>NaN</td>\n",
              "      <td>NaN</td>\n",
              "      <td>NaN</td>\n",
              "      <td>NaN</td>\n",
              "      <td>NaN</td>\n",
              "      <td>NaN</td>\n",
              "      <td>NaN</td>\n",
              "      <td>NaN</td>\n",
              "      <td>NaN</td>\n",
              "      <td>0.21781</td>\n",
              "      <td>829826.62500</td>\n",
              "      <td>-97.72382</td>\n",
              "      <td>58.45699</td>\n",
              "      <td>-103.69569</td>\n",
              "      <td>36.37274</td>\n",
              "      <td>0.11728</td>\n",
              "      <td>3.03799</td>\n",
              "      <td>0.35978</td>\n",
              "      <td>226.43236</td>\n",
              "      <td>0.46068</td>\n",
              "      <td>-97.72382</td>\n",
              "      <td>58.45699</td>\n",
              "      <td>-103.69569</td>\n",
              "      <td>36.37274</td>\n",
              "      <td>NaN</td>\n",
              "      <td>NaN</td>\n",
              "      <td>NaN</td>\n",
              "      <td>NaN</td>\n",
              "      <td>NaN</td>\n",
              "      <td>NaN</td>\n",
              "      <td>NaN</td>\n",
              "      <td>NaN</td>\n",
              "      <td>NaN</td>\n",
              "      <td>NaN</td>\n",
              "      <td>NaN</td>\n",
              "      <td>32.50708</td>\n",
              "    </tr>\n",
              "  </tbody>\n",
              "</table>\n",
              "</div>\n",
              "      <button class=\"colab-df-convert\" onclick=\"convertToInteractive('df-494e12d9-1b61-4f3c-b181-d12214a99159')\"\n",
              "              title=\"Convert this dataframe to an interactive table.\"\n",
              "              style=\"display:none;\">\n",
              "        \n",
              "  <svg xmlns=\"http://www.w3.org/2000/svg\" height=\"24px\"viewBox=\"0 0 24 24\"\n",
              "       width=\"24px\">\n",
              "    <path d=\"M0 0h24v24H0V0z\" fill=\"none\"/>\n",
              "    <path d=\"M18.56 5.44l.94 2.06.94-2.06 2.06-.94-2.06-.94-.94-2.06-.94 2.06-2.06.94zm-11 1L8.5 8.5l.94-2.06 2.06-.94-2.06-.94L8.5 2.5l-.94 2.06-2.06.94zm10 10l.94 2.06.94-2.06 2.06-.94-2.06-.94-.94-2.06-.94 2.06-2.06.94z\"/><path d=\"M17.41 7.96l-1.37-1.37c-.4-.4-.92-.59-1.43-.59-.52 0-1.04.2-1.43.59L10.3 9.45l-7.72 7.72c-.78.78-.78 2.05 0 2.83L4 21.41c.39.39.9.59 1.41.59.51 0 1.02-.2 1.41-.59l7.78-7.78 2.81-2.81c.8-.78.8-2.07 0-2.86zM5.41 20L4 18.59l7.72-7.72 1.47 1.35L5.41 20z\"/>\n",
              "  </svg>\n",
              "      </button>\n",
              "      \n",
              "  <style>\n",
              "    .colab-df-container {\n",
              "      display:flex;\n",
              "      flex-wrap:wrap;\n",
              "      gap: 12px;\n",
              "    }\n",
              "\n",
              "    .colab-df-convert {\n",
              "      background-color: #E8F0FE;\n",
              "      border: none;\n",
              "      border-radius: 50%;\n",
              "      cursor: pointer;\n",
              "      display: none;\n",
              "      fill: #1967D2;\n",
              "      height: 32px;\n",
              "      padding: 0 0 0 0;\n",
              "      width: 32px;\n",
              "    }\n",
              "\n",
              "    .colab-df-convert:hover {\n",
              "      background-color: #E2EBFA;\n",
              "      box-shadow: 0px 1px 2px rgba(60, 64, 67, 0.3), 0px 1px 3px 1px rgba(60, 64, 67, 0.15);\n",
              "      fill: #174EA6;\n",
              "    }\n",
              "\n",
              "    [theme=dark] .colab-df-convert {\n",
              "      background-color: #3B4455;\n",
              "      fill: #D2E3FC;\n",
              "    }\n",
              "\n",
              "    [theme=dark] .colab-df-convert:hover {\n",
              "      background-color: #434B5C;\n",
              "      box-shadow: 0px 1px 3px 1px rgba(0, 0, 0, 0.15);\n",
              "      filter: drop-shadow(0px 1px 2px rgba(0, 0, 0, 0.3));\n",
              "      fill: #FFFFFF;\n",
              "    }\n",
              "  </style>\n",
              "\n",
              "      <script>\n",
              "        const buttonEl =\n",
              "          document.querySelector('#df-494e12d9-1b61-4f3c-b181-d12214a99159 button.colab-df-convert');\n",
              "        buttonEl.style.display =\n",
              "          google.colab.kernel.accessAllowed ? 'block' : 'none';\n",
              "\n",
              "        async function convertToInteractive(key) {\n",
              "          const element = document.querySelector('#df-494e12d9-1b61-4f3c-b181-d12214a99159');\n",
              "          const dataTable =\n",
              "            await google.colab.kernel.invokeFunction('convertToInteractive',\n",
              "                                                     [key], {});\n",
              "          if (!dataTable) return;\n",
              "\n",
              "          const docLinkHtml = 'Like what you see? Visit the ' +\n",
              "            '<a target=\"_blank\" href=https://colab.research.google.com/notebooks/data_table.ipynb>data table notebook</a>'\n",
              "            + ' to learn more about interactive tables.';\n",
              "          element.innerHTML = '';\n",
              "          dataTable['output_type'] = 'display_data';\n",
              "          await google.colab.output.renderOutput(dataTable, element);\n",
              "          const docLink = document.createElement('div');\n",
              "          docLink.innerHTML = docLinkHtml;\n",
              "          element.appendChild(docLink);\n",
              "        }\n",
              "      </script>\n",
              "    </div>\n",
              "  </div>\n",
              "  "
            ]
          },
          "metadata": {},
          "execution_count": 8
        }
      ],
      "source": [
        "train.head(2)"
      ]
    },
    {
      "cell_type": "markdown",
      "metadata": {
        "id": "c1gKahrXsKQr"
      },
      "source": [
        "### Sort the Data because satelite date is timeseries like in nature"
      ]
    },
    {
      "cell_type": "code",
      "execution_count": null,
      "metadata": {
        "colab": {
          "base_uri": "https://localhost:8080/"
        },
        "id": "j3SElJOZsKQt",
        "outputId": "d1ea0f93-c36b-40a3-8f6c-9f9fe8bf704a"
      },
      "outputs": [
        {
          "output_type": "execute_result",
          "data": {
            "text/plain": [
              "('2020-08-20', '2019-03-14', '2020-12-31', '2020-08-20')"
            ]
          },
          "metadata": {},
          "execution_count": 9
        }
      ],
      "source": [
        "train = train.sort_values(by=['date']).reset_index(drop=True)\n",
        "test = test.sort_values(by=['date']).reset_index(drop=True)\n",
        "train.date.max(),train.date.min(), test.date.max(),test.date.min()"
      ]
    },
    {
      "cell_type": "code",
      "execution_count": null,
      "metadata": {
        "colab": {
          "base_uri": "https://localhost:8080/",
          "height": 424
        },
        "id": "EQNNvbfisKQu",
        "outputId": "a2799ea0-aaa8-4456-8f82-ef2302a18241"
      },
      "outputs": [
        {
          "output_type": "execute_result",
          "data": {
            "text/plain": [
              "            date    pm2_5\n",
              "0     2019-03-14 31.41500\n",
              "1     2019-03-15 28.94000\n",
              "2     2019-03-16 34.34927\n",
              "3     2019-03-17 43.13188\n",
              "4     2019-03-18 30.58446\n",
              "...          ...      ...\n",
              "9918  2020-08-20 84.79917\n",
              "9919  2020-08-20 45.81200\n",
              "9920  2020-08-20 61.87583\n",
              "9921  2020-08-20 53.92308\n",
              "9922  2020-08-20 58.26774\n",
              "\n",
              "[9923 rows x 2 columns]"
            ],
            "text/html": [
              "\n",
              "  <div id=\"df-63c819d5-8a08-46c1-8cfd-ecee6db241ec\">\n",
              "    <div class=\"colab-df-container\">\n",
              "      <div>\n",
              "<style scoped>\n",
              "    .dataframe tbody tr th:only-of-type {\n",
              "        vertical-align: middle;\n",
              "    }\n",
              "\n",
              "    .dataframe tbody tr th {\n",
              "        vertical-align: top;\n",
              "    }\n",
              "\n",
              "    .dataframe thead th {\n",
              "        text-align: right;\n",
              "    }\n",
              "</style>\n",
              "<table border=\"1\" class=\"dataframe\">\n",
              "  <thead>\n",
              "    <tr style=\"text-align: right;\">\n",
              "      <th></th>\n",
              "      <th>date</th>\n",
              "      <th>pm2_5</th>\n",
              "    </tr>\n",
              "  </thead>\n",
              "  <tbody>\n",
              "    <tr>\n",
              "      <th>0</th>\n",
              "      <td>2019-03-14</td>\n",
              "      <td>31.41500</td>\n",
              "    </tr>\n",
              "    <tr>\n",
              "      <th>1</th>\n",
              "      <td>2019-03-15</td>\n",
              "      <td>28.94000</td>\n",
              "    </tr>\n",
              "    <tr>\n",
              "      <th>2</th>\n",
              "      <td>2019-03-16</td>\n",
              "      <td>34.34927</td>\n",
              "    </tr>\n",
              "    <tr>\n",
              "      <th>3</th>\n",
              "      <td>2019-03-17</td>\n",
              "      <td>43.13188</td>\n",
              "    </tr>\n",
              "    <tr>\n",
              "      <th>4</th>\n",
              "      <td>2019-03-18</td>\n",
              "      <td>30.58446</td>\n",
              "    </tr>\n",
              "    <tr>\n",
              "      <th>...</th>\n",
              "      <td>...</td>\n",
              "      <td>...</td>\n",
              "    </tr>\n",
              "    <tr>\n",
              "      <th>9918</th>\n",
              "      <td>2020-08-20</td>\n",
              "      <td>84.79917</td>\n",
              "    </tr>\n",
              "    <tr>\n",
              "      <th>9919</th>\n",
              "      <td>2020-08-20</td>\n",
              "      <td>45.81200</td>\n",
              "    </tr>\n",
              "    <tr>\n",
              "      <th>9920</th>\n",
              "      <td>2020-08-20</td>\n",
              "      <td>61.87583</td>\n",
              "    </tr>\n",
              "    <tr>\n",
              "      <th>9921</th>\n",
              "      <td>2020-08-20</td>\n",
              "      <td>53.92308</td>\n",
              "    </tr>\n",
              "    <tr>\n",
              "      <th>9922</th>\n",
              "      <td>2020-08-20</td>\n",
              "      <td>58.26774</td>\n",
              "    </tr>\n",
              "  </tbody>\n",
              "</table>\n",
              "<p>9923 rows × 2 columns</p>\n",
              "</div>\n",
              "      <button class=\"colab-df-convert\" onclick=\"convertToInteractive('df-63c819d5-8a08-46c1-8cfd-ecee6db241ec')\"\n",
              "              title=\"Convert this dataframe to an interactive table.\"\n",
              "              style=\"display:none;\">\n",
              "        \n",
              "  <svg xmlns=\"http://www.w3.org/2000/svg\" height=\"24px\"viewBox=\"0 0 24 24\"\n",
              "       width=\"24px\">\n",
              "    <path d=\"M0 0h24v24H0V0z\" fill=\"none\"/>\n",
              "    <path d=\"M18.56 5.44l.94 2.06.94-2.06 2.06-.94-2.06-.94-.94-2.06-.94 2.06-2.06.94zm-11 1L8.5 8.5l.94-2.06 2.06-.94-2.06-.94L8.5 2.5l-.94 2.06-2.06.94zm10 10l.94 2.06.94-2.06 2.06-.94-2.06-.94-.94-2.06-.94 2.06-2.06.94z\"/><path d=\"M17.41 7.96l-1.37-1.37c-.4-.4-.92-.59-1.43-.59-.52 0-1.04.2-1.43.59L10.3 9.45l-7.72 7.72c-.78.78-.78 2.05 0 2.83L4 21.41c.39.39.9.59 1.41.59.51 0 1.02-.2 1.41-.59l7.78-7.78 2.81-2.81c.8-.78.8-2.07 0-2.86zM5.41 20L4 18.59l7.72-7.72 1.47 1.35L5.41 20z\"/>\n",
              "  </svg>\n",
              "      </button>\n",
              "      \n",
              "  <style>\n",
              "    .colab-df-container {\n",
              "      display:flex;\n",
              "      flex-wrap:wrap;\n",
              "      gap: 12px;\n",
              "    }\n",
              "\n",
              "    .colab-df-convert {\n",
              "      background-color: #E8F0FE;\n",
              "      border: none;\n",
              "      border-radius: 50%;\n",
              "      cursor: pointer;\n",
              "      display: none;\n",
              "      fill: #1967D2;\n",
              "      height: 32px;\n",
              "      padding: 0 0 0 0;\n",
              "      width: 32px;\n",
              "    }\n",
              "\n",
              "    .colab-df-convert:hover {\n",
              "      background-color: #E2EBFA;\n",
              "      box-shadow: 0px 1px 2px rgba(60, 64, 67, 0.3), 0px 1px 3px 1px rgba(60, 64, 67, 0.15);\n",
              "      fill: #174EA6;\n",
              "    }\n",
              "\n",
              "    [theme=dark] .colab-df-convert {\n",
              "      background-color: #3B4455;\n",
              "      fill: #D2E3FC;\n",
              "    }\n",
              "\n",
              "    [theme=dark] .colab-df-convert:hover {\n",
              "      background-color: #434B5C;\n",
              "      box-shadow: 0px 1px 3px 1px rgba(0, 0, 0, 0.15);\n",
              "      filter: drop-shadow(0px 1px 2px rgba(0, 0, 0, 0.3));\n",
              "      fill: #FFFFFF;\n",
              "    }\n",
              "  </style>\n",
              "\n",
              "      <script>\n",
              "        const buttonEl =\n",
              "          document.querySelector('#df-63c819d5-8a08-46c1-8cfd-ecee6db241ec button.colab-df-convert');\n",
              "        buttonEl.style.display =\n",
              "          google.colab.kernel.accessAllowed ? 'block' : 'none';\n",
              "\n",
              "        async function convertToInteractive(key) {\n",
              "          const element = document.querySelector('#df-63c819d5-8a08-46c1-8cfd-ecee6db241ec');\n",
              "          const dataTable =\n",
              "            await google.colab.kernel.invokeFunction('convertToInteractive',\n",
              "                                                     [key], {});\n",
              "          if (!dataTable) return;\n",
              "\n",
              "          const docLinkHtml = 'Like what you see? Visit the ' +\n",
              "            '<a target=\"_blank\" href=https://colab.research.google.com/notebooks/data_table.ipynb>data table notebook</a>'\n",
              "            + ' to learn more about interactive tables.';\n",
              "          element.innerHTML = '';\n",
              "          dataTable['output_type'] = 'display_data';\n",
              "          await google.colab.output.renderOutput(dataTable, element);\n",
              "          const docLink = document.createElement('div');\n",
              "          docLink.innerHTML = docLinkHtml;\n",
              "          element.appendChild(docLink);\n",
              "        }\n",
              "      </script>\n",
              "    </div>\n",
              "  </div>\n",
              "  "
            ]
          },
          "metadata": {},
          "execution_count": 10
        }
      ],
      "source": [
        "train[['date', 'pm2_5']]"
      ]
    },
    {
      "cell_type": "markdown",
      "metadata": {
        "id": "rKTql_UfsKQv"
      },
      "source": [
        "## Visualize Missing values and deal with them"
      ]
    },
    {
      "cell_type": "code",
      "execution_count": null,
      "metadata": {
        "id": "QfCXfUQfsKQv"
      },
      "outputs": [],
      "source": [
        "#check for missing values\n",
        "percent_missing = train.isnull().sum() * 100 / len(train)\n",
        "missing_value_train = pd.DataFrame({'column_name': train.columns,\n",
        "                                 'percent_missing': percent_missing})\n",
        "column_more_than_half_miss = missing_value_train[missing_value_train['percent_missing'] > 50]['column_name'].to_list()\n",
        "\n",
        "train = train.drop(column_more_than_half_miss, axis=1)\n",
        "test  = test.drop(column_more_than_half_miss, axis=1)"
      ]
    },
    {
      "cell_type": "code",
      "execution_count": null,
      "metadata": {
        "id": "ugN0dkalsKQz"
      },
      "outputs": [],
      "source": [
        "cat_columns = [col for col in train.select_dtypes('object').columns]\n",
        "num_columns = [col for col in train.select_dtypes(['int', 'float']).columns if col not in ['pm2_5']]"
      ]
    },
    {
      "cell_type": "markdown",
      "source": [
        "### Concat both datasets for easy manipulation"
      ],
      "metadata": {
        "id": "30GUmUPoBQm8"
      }
    },
    {
      "cell_type": "code",
      "execution_count": null,
      "metadata": {
        "id": "oPjAgXU2sKQ0"
      },
      "outputs": [],
      "source": [
        "ntrain = train.shape[0]\n",
        "ntest = test.shape[0]\n",
        "data = pd.concat((train, test)).reset_index(drop=True)"
      ]
    },
    {
      "cell_type": "code",
      "execution_count": null,
      "metadata": {
        "colab": {
          "base_uri": "https://localhost:8080/"
        },
        "id": "zp4Co0TqsKQ1",
        "outputId": "63c7a3c3-8607-490c-b656-66fd6db54477"
      },
      "outputs": [
        {
          "output_type": "execute_result",
          "data": {
            "text/plain": [
              "pm2_5    4254\n",
              "dtype: int64"
            ]
          },
          "metadata": {},
          "execution_count": 14
        }
      ],
      "source": [
        "nan_cols = [c for c in data.columns if c not in [\"ID\",\"pm2_5\", \"device\"]]\n",
        "nan_cols = data[nan_cols].columns[data[nan_cols].isnull().any()].tolist()\n",
        "\n",
        "for col in nan_cols:\n",
        "    \n",
        "    while data[col].isnull().sum()>0:\n",
        "     \n",
        "        data[col].fillna(data[[\"device\", col]].groupby([\"device\"]).shift(periods=0).fillna(method='ffill', limit=1).fillna(method='bfill', limit=1)[col], inplace=True) \n",
        "\n",
        "data.isnull().sum()[data.isnull().sum()>0]"
      ]
    },
    {
      "cell_type": "markdown",
      "source": [
        "### Check if temp and hum are of the required ranges"
      ],
      "metadata": {
        "id": "RgnOSma2Bnd4"
      }
    },
    {
      "cell_type": "code",
      "execution_count": null,
      "metadata": {
        "colab": {
          "base_uri": "https://localhost:8080/",
          "height": 301
        },
        "id": "r-FxmV3VsKQ3",
        "outputId": "ae4db901-cac0-468b-fa73-fab5bdf39fb7"
      },
      "outputs": [
        {
          "output_type": "execute_result",
          "data": {
            "text/plain": [
              "        temp_mean    humidity\n",
              "count 14177.00000 14177.00000\n",
              "mean     21.49991     0.79275\n",
              "std       3.87594     0.15020\n",
              "min       0.00000     0.00000\n",
              "25%      21.16548     0.77513\n",
              "50%      22.18949     0.82266\n",
              "75%      23.13194     0.86669\n",
              "max      29.73500     1.00000"
            ],
            "text/html": [
              "\n",
              "  <div id=\"df-ff561c49-e08a-4301-a45d-84498c152210\">\n",
              "    <div class=\"colab-df-container\">\n",
              "      <div>\n",
              "<style scoped>\n",
              "    .dataframe tbody tr th:only-of-type {\n",
              "        vertical-align: middle;\n",
              "    }\n",
              "\n",
              "    .dataframe tbody tr th {\n",
              "        vertical-align: top;\n",
              "    }\n",
              "\n",
              "    .dataframe thead th {\n",
              "        text-align: right;\n",
              "    }\n",
              "</style>\n",
              "<table border=\"1\" class=\"dataframe\">\n",
              "  <thead>\n",
              "    <tr style=\"text-align: right;\">\n",
              "      <th></th>\n",
              "      <th>temp_mean</th>\n",
              "      <th>humidity</th>\n",
              "    </tr>\n",
              "  </thead>\n",
              "  <tbody>\n",
              "    <tr>\n",
              "      <th>count</th>\n",
              "      <td>14177.00000</td>\n",
              "      <td>14177.00000</td>\n",
              "    </tr>\n",
              "    <tr>\n",
              "      <th>mean</th>\n",
              "      <td>21.49991</td>\n",
              "      <td>0.79275</td>\n",
              "    </tr>\n",
              "    <tr>\n",
              "      <th>std</th>\n",
              "      <td>3.87594</td>\n",
              "      <td>0.15020</td>\n",
              "    </tr>\n",
              "    <tr>\n",
              "      <th>min</th>\n",
              "      <td>0.00000</td>\n",
              "      <td>0.00000</td>\n",
              "    </tr>\n",
              "    <tr>\n",
              "      <th>25%</th>\n",
              "      <td>21.16548</td>\n",
              "      <td>0.77513</td>\n",
              "    </tr>\n",
              "    <tr>\n",
              "      <th>50%</th>\n",
              "      <td>22.18949</td>\n",
              "      <td>0.82266</td>\n",
              "    </tr>\n",
              "    <tr>\n",
              "      <th>75%</th>\n",
              "      <td>23.13194</td>\n",
              "      <td>0.86669</td>\n",
              "    </tr>\n",
              "    <tr>\n",
              "      <th>max</th>\n",
              "      <td>29.73500</td>\n",
              "      <td>1.00000</td>\n",
              "    </tr>\n",
              "  </tbody>\n",
              "</table>\n",
              "</div>\n",
              "      <button class=\"colab-df-convert\" onclick=\"convertToInteractive('df-ff561c49-e08a-4301-a45d-84498c152210')\"\n",
              "              title=\"Convert this dataframe to an interactive table.\"\n",
              "              style=\"display:none;\">\n",
              "        \n",
              "  <svg xmlns=\"http://www.w3.org/2000/svg\" height=\"24px\"viewBox=\"0 0 24 24\"\n",
              "       width=\"24px\">\n",
              "    <path d=\"M0 0h24v24H0V0z\" fill=\"none\"/>\n",
              "    <path d=\"M18.56 5.44l.94 2.06.94-2.06 2.06-.94-2.06-.94-.94-2.06-.94 2.06-2.06.94zm-11 1L8.5 8.5l.94-2.06 2.06-.94-2.06-.94L8.5 2.5l-.94 2.06-2.06.94zm10 10l.94 2.06.94-2.06 2.06-.94-2.06-.94-.94-2.06-.94 2.06-2.06.94z\"/><path d=\"M17.41 7.96l-1.37-1.37c-.4-.4-.92-.59-1.43-.59-.52 0-1.04.2-1.43.59L10.3 9.45l-7.72 7.72c-.78.78-.78 2.05 0 2.83L4 21.41c.39.39.9.59 1.41.59.51 0 1.02-.2 1.41-.59l7.78-7.78 2.81-2.81c.8-.78.8-2.07 0-2.86zM5.41 20L4 18.59l7.72-7.72 1.47 1.35L5.41 20z\"/>\n",
              "  </svg>\n",
              "      </button>\n",
              "      \n",
              "  <style>\n",
              "    .colab-df-container {\n",
              "      display:flex;\n",
              "      flex-wrap:wrap;\n",
              "      gap: 12px;\n",
              "    }\n",
              "\n",
              "    .colab-df-convert {\n",
              "      background-color: #E8F0FE;\n",
              "      border: none;\n",
              "      border-radius: 50%;\n",
              "      cursor: pointer;\n",
              "      display: none;\n",
              "      fill: #1967D2;\n",
              "      height: 32px;\n",
              "      padding: 0 0 0 0;\n",
              "      width: 32px;\n",
              "    }\n",
              "\n",
              "    .colab-df-convert:hover {\n",
              "      background-color: #E2EBFA;\n",
              "      box-shadow: 0px 1px 2px rgba(60, 64, 67, 0.3), 0px 1px 3px 1px rgba(60, 64, 67, 0.15);\n",
              "      fill: #174EA6;\n",
              "    }\n",
              "\n",
              "    [theme=dark] .colab-df-convert {\n",
              "      background-color: #3B4455;\n",
              "      fill: #D2E3FC;\n",
              "    }\n",
              "\n",
              "    [theme=dark] .colab-df-convert:hover {\n",
              "      background-color: #434B5C;\n",
              "      box-shadow: 0px 1px 3px 1px rgba(0, 0, 0, 0.15);\n",
              "      filter: drop-shadow(0px 1px 2px rgba(0, 0, 0, 0.3));\n",
              "      fill: #FFFFFF;\n",
              "    }\n",
              "  </style>\n",
              "\n",
              "      <script>\n",
              "        const buttonEl =\n",
              "          document.querySelector('#df-ff561c49-e08a-4301-a45d-84498c152210 button.colab-df-convert');\n",
              "        buttonEl.style.display =\n",
              "          google.colab.kernel.accessAllowed ? 'block' : 'none';\n",
              "\n",
              "        async function convertToInteractive(key) {\n",
              "          const element = document.querySelector('#df-ff561c49-e08a-4301-a45d-84498c152210');\n",
              "          const dataTable =\n",
              "            await google.colab.kernel.invokeFunction('convertToInteractive',\n",
              "                                                     [key], {});\n",
              "          if (!dataTable) return;\n",
              "\n",
              "          const docLinkHtml = 'Like what you see? Visit the ' +\n",
              "            '<a target=\"_blank\" href=https://colab.research.google.com/notebooks/data_table.ipynb>data table notebook</a>'\n",
              "            + ' to learn more about interactive tables.';\n",
              "          element.innerHTML = '';\n",
              "          dataTable['output_type'] = 'display_data';\n",
              "          await google.colab.output.renderOutput(dataTable, element);\n",
              "          const docLink = document.createElement('div');\n",
              "          docLink.innerHTML = docLinkHtml;\n",
              "          element.appendChild(docLink);\n",
              "        }\n",
              "      </script>\n",
              "    </div>\n",
              "  </div>\n",
              "  "
            ]
          },
          "metadata": {},
          "execution_count": 16
        }
      ],
      "source": [
        "temp_hum = ['temp_mean','humidity']\n",
        "data[temp_hum].describe()"
      ]
    },
    {
      "cell_type": "markdown",
      "metadata": {
        "id": "PX6d2BZksKQ4"
      },
      "source": [
        "temperature and humidity are of the required range"
      ]
    },
    {
      "cell_type": "markdown",
      "metadata": {
        "id": "gKow627dsKQ5"
      },
      "source": [
        "## Visualizing our Target and View the stats"
      ]
    },
    {
      "cell_type": "code",
      "execution_count": null,
      "metadata": {
        "colab": {
          "base_uri": "https://localhost:8080/",
          "height": 297
        },
        "id": "HS1NhmXFsKQ5",
        "outputId": "78a96918-026b-4b2b-dd2d-840afce80b75"
      },
      "outputs": [
        {
          "output_type": "execute_result",
          "data": {
            "text/plain": [
              "<matplotlib.axes._subplots.AxesSubplot at 0x7fa342a81550>"
            ]
          },
          "metadata": {},
          "execution_count": 17
        },
        {
          "output_type": "display_data",
          "data": {
            "text/plain": [
              "<Figure size 432x288 with 1 Axes>"
            ],
            "image/png": "[encoded data removed]"
          },
          "metadata": {
            "needs_background": "light"
          }
        }
      ],
      "source": [
        "sns.distplot((data.pm2_5))"
      ]
    },
    {
      "cell_type": "code",
      "execution_count": null,
      "metadata": {
        "colab": {
          "base_uri": "https://localhost:8080/"
        },
        "id": "CSM5RlH7sKQ5",
        "outputId": "b318fef4-f521-4382-8f8f-0deae11ed507"
      },
      "outputs": [
        {
          "output_type": "execute_result",
          "data": {
            "text/plain": [
              "count   9923.00000\n",
              "mean      57.10731\n",
              "std       27.48295\n",
              "min        1.16040\n",
              "25%       38.02829\n",
              "50%       51.93024\n",
              "75%       72.03312\n",
              "max      440.92000\n",
              "Name: pm2_5, dtype: float64"
            ]
          },
          "metadata": {},
          "execution_count": 18
        }
      ],
      "source": [
        "data.pm2_5.describe()"
      ]
    },
    {
      "cell_type": "code",
      "execution_count": null,
      "metadata": {
        "colab": {
          "base_uri": "https://localhost:8080/",
          "height": 297
        },
        "id": "4fyjeU-YsKQ7",
        "outputId": "f5dea2f8-49ca-4b65-99ac-abdd06782301"
      },
      "outputs": [
        {
          "output_type": "execute_result",
          "data": {
            "text/plain": [
              "<matplotlib.axes._subplots.AxesSubplot at 0x7fa3404c3b90>"
            ]
          },
          "metadata": {},
          "execution_count": 19
        },
        {
          "output_type": "display_data",
          "data": {
            "text/plain": [
              "<Figure size 432x288 with 1 Axes>"
            ],
            "image/png": "[encoded data removed]"
          },
          "metadata": {
            "needs_background": "light"
          }
        }
      ],
      "source": [
        "sns.distplot(np.log1p(data.pm2_5))"
      ]
    },
    {
      "cell_type": "markdown",
      "source": [
        "### Deal with potential outliers"
      ],
      "metadata": {
        "id": "T6heY5OvBz1w"
      }
    },
    {
      "cell_type": "code",
      "execution_count": null,
      "metadata": {
        "id": "_BaE-OT3sKQ7"
      },
      "outputs": [],
      "source": [
        "data['CarbonMonoxide_H2O_column_number_density'].loc[data['CarbonMonoxide_H2O_column_number_density'] >5377.06104]  = 5377.06104\n",
        "data['Cloud_cloud_optical_depth'].loc[data['Cloud_cloud_optical_depth'] >97.46741]  = 97.46741\n",
        "\n",
        "data['pm2_5'] = np.where(data['pm2_5']  >= data['pm2_5'].quantile(0.97), data['pm2_5'].quantile(0.97),data['pm2_5'])"
      ]
    },
    {
      "cell_type": "code",
      "execution_count": null,
      "metadata": {
        "id": "N_VevwEWsKQ8"
      },
      "outputs": [],
      "source": [
        "#outliers_cols =[ col for col in data.columns if col not in ['ID','date','device','site_latitude','site_longitude','lat_lon', 'CarbonMonoxide_H2O_column_number_density', 'Cloud_cloud_optical_depth',\n",
        "#                                                      'UvAerosolIndex_sensor_zenith_angle','UvAerosolIndex_sensor_azimuth_angle','SulphurDioxide_sensor_zenith_angle','pm2_5',  \n",
        "#    'SulphurDioxide_SO2_column_number_density_amf','SulphurDioxide_SO2_column_number_density_15km','Ozone_O3_slant_column_number_density','Ozone_sensor_zenith_angle','Ozone_solar_zenith_angle','Cloud_sensor_azimuth_angle','UvAerosolIndex_absorbing_aerosol_index']]\n",
        "#for k in outliers_cols:\n",
        "#    data[k] = np.where(data[k]  >= data[k].quantile(0.99), data[k].quantile(0.99),data[k])"
      ]
    },
    {
      "cell_type": "markdown",
      "metadata": {
        "id": "3wc416iasKQ9"
      },
      "source": [
        "### Categorical Features visualization"
      ]
    },
    {
      "cell_type": "code",
      "execution_count": null,
      "metadata": {
        "id": "FCrWb7mssKQ9"
      },
      "outputs": [],
      "source": [
        "categorical_behaving_cols = ['device',\n",
        "'site_latitude',\n",
        "'site_longitude',]"
      ]
    },
    {
      "cell_type": "code",
      "execution_count": null,
      "metadata": {
        "colab": {
          "base_uri": "https://localhost:8080/"
        },
        "id": "rw1AC7WusKQ-",
        "outputId": "ad791efd-ae7c-44df-a8f4-526bfbeb82cf"
      },
      "outputs": [
        {
          "output_type": "execute_result",
          "data": {
            "text/plain": [
              "device            36\n",
              "site_latitude     48\n",
              "site_longitude    36\n",
              "dtype: int64"
            ]
          },
          "metadata": {},
          "execution_count": 24
        }
      ],
      "source": [
        "# check unique values in dataset\n",
        "data[categorical_behaving_cols].apply(lambda x: len(x.unique()))"
      ]
    },
    {
      "cell_type": "code",
      "execution_count": null,
      "metadata": {
        "colab": {
          "base_uri": "https://localhost:8080/",
          "height": 1000
        },
        "id": "m6jFLVWLsKQ-",
        "outputId": "ef5a8ca8-a08e-49a5-feac-9f3bd4cf6313"
      },
      "outputs": [
        {
          "output_type": "stream",
          "name": "stdout",
          "text": [
            "aq_30       598\n",
            "aq_41       586\n",
            "aq_45       500\n",
            "aq_43       491\n",
            "aq_46       486\n",
            "aq_49       485\n",
            "AKSLS0FP    462\n",
            "A0WN66FH    462\n",
            "AY2J2Q7Z    462\n",
            "AB6051M4    462\n",
            "AJCK5L86    462\n",
            "APYZC5J7    462\n",
            "ANQ16PZJ    462\n",
            "AR2RHV97    462\n",
            "APZ80RTM    462\n",
            "AW66FF7V    462\n",
            "A95X5F9T    462\n",
            "aq_29       447\n",
            "aq_54       417\n",
            "aq_36       404\n",
            "aq_61       400\n",
            "aq_52       399\n",
            "aq_59       395\n",
            "aq_70       372\n",
            "aq_35       348\n",
            "aq_74       336\n",
            "aq_47       332\n",
            "aq_56       324\n",
            "aq_31       314\n",
            "aq_79       307\n",
            "aq_60       295\n",
            "aq_57       294\n",
            "aq_76       245\n",
            "aq_64       237\n",
            "aq_91        80\n",
            "aq_98         3\n",
            "Name: device, dtype: int64\n"
          ]
        },
        {
          "output_type": "execute_result",
          "data": {
            "text/plain": [
              "Text(0.5, 0, 'device')"
            ]
          },
          "metadata": {},
          "execution_count": 25
        },
        {
          "output_type": "display_data",
          "data": {
            "text/plain": [
              "<Figure size 720x360 with 1 Axes>"
            ],
            "image/png": "[encoded data removed]"
          },
          "metadata": {
            "needs_background": "light"
          }
        }
      ],
      "source": [
        "print(data['device'].value_counts())\n",
        "plt.figure(figsize=(10,5))\n",
        "data['device'].value_counts(normalize=True).plot(kind='bar')\n",
        "plt.ylabel('counts')\n",
        "plt.xlabel('device')"
      ]
    },
    {
      "cell_type": "code",
      "execution_count": null,
      "metadata": {
        "colab": {
          "base_uri": "https://localhost:8080/",
          "height": 1000
        },
        "id": "yOXMORBcsKRA",
        "outputId": "ec7ef307-af18-4b09-feaa-efaae6e08436"
      },
      "outputs": [
        {
          "output_type": "stream",
          "name": "stdout",
          "text": [
            "0.05960     598\n",
            "-1.24499    586\n",
            "0.34400     500\n",
            "0.28904     491\n",
            "0.29875     486\n",
            "0.28368     485\n",
            "0.26501     462\n",
            "0.28575     462\n",
            "0.30758     462\n",
            "0.39074     462\n",
            "0.34390     462\n",
            "0.34373     462\n",
            "0.30667     462\n",
            "0.31545     462\n",
            "0.31997     462\n",
            "0.30750     447\n",
            "0.35346     446\n",
            "0.37956     444\n",
            "0.35640     417\n",
            "0.35483     404\n",
            "0.28659     372\n",
            "0.21820     371\n",
            "0.37308     344\n",
            "0.38158     339\n",
            "0.30749     336\n",
            "0.31010     324\n",
            "0.36075     323\n",
            "0.34701     314\n",
            "0.36021     300\n",
            "0.30778     295\n",
            "0.35470     289\n",
            "0.35799     245\n",
            "0.39148     228\n",
            "0.35170     200\n",
            "0.35170     132\n",
            "0.33261      83\n",
            "0.38158      52\n",
            "0.37308      49\n",
            "0.21820      28\n",
            "0.36075      25\n",
            "0.35346      16\n",
            "0.37956      12\n",
            "0.39148       9\n",
            "0.37308       7\n",
            "0.36021       7\n",
            "0.37956       6\n",
            "0.35470       5\n",
            "0.38158       4\n",
            "Name: site_latitude, dtype: int64\n"
          ]
        },
        {
          "output_type": "execute_result",
          "data": {
            "text/plain": [
              "Text(0.5, 0, 'site_latitude')"
            ]
          },
          "metadata": {},
          "execution_count": 26
        },
        {
          "output_type": "display_data",
          "data": {
            "text/plain": [
              "<Figure size 720x360 with 1 Axes>"
            ],
            "image/png": "[encoded data removed]"
          },
          "metadata": {
            "needs_background": "light"
          }
        }
      ],
      "source": [
        "print(data['site_latitude'].value_counts())\n",
        "plt.figure(figsize=(10,5))\n",
        "data['site_latitude'].value_counts(normalize=True).plot(kind='bar')\n",
        "plt.ylabel('counts')\n",
        "plt.xlabel('site_latitude')"
      ]
    },
    {
      "cell_type": "code",
      "execution_count": null,
      "metadata": {
        "colab": {
          "base_uri": "https://localhost:8080/",
          "height": 1000
        },
        "id": "b19K3hjAsKRA",
        "outputId": "63033845-332d-4a36-94fc-b4c302f9daec"
      },
      "outputs": [
        {
          "output_type": "stream",
          "name": "stdout",
          "text": [
            "32.46032    598\n",
            "32.55300    500\n",
            "32.58958    491\n",
            "32.61500    486\n",
            "32.60048    485\n",
            "32.62560    462\n",
            "32.57833    462\n",
            "32.56708    462\n",
            "32.58226    462\n",
            "32.58723    462\n",
            "32.59555    462\n",
            "32.56032    462\n",
            "32.55131    462\n",
            "32.60855    462\n",
            "32.58671    462\n",
            "32.55371    462\n",
            "32.62060    447\n",
            "32.57300    417\n",
            "32.67781    404\n",
            "32.62823    400\n",
            "32.61760    399\n",
            "32.64711    395\n",
            "32.50611    372\n",
            "32.75257    348\n",
            "32.61176    336\n",
            "32.59100    332\n",
            "29.98924    327\n",
            "32.51600    324\n",
            "32.64936    314\n",
            "32.61076    307\n",
            "32.65145    295\n",
            "32.50260    294\n",
            "29.98924    259\n",
            "32.58410    245\n",
            "32.62583    237\n",
            "32.61005     83\n",
            "Name: site_longitude, dtype: int64\n"
          ]
        },
        {
          "output_type": "execute_result",
          "data": {
            "text/plain": [
              "Text(0.5, 0, 'site_longitude')"
            ]
          },
          "metadata": {},
          "execution_count": 27
        },
        {
          "output_type": "display_data",
          "data": {
            "text/plain": [
              "<Figure size 720x360 with 1 Axes>"
            ],
            "image/png": "[encoded data removed]"
          },
          "metadata": {
            "needs_background": "light"
          }
        }
      ],
      "source": [
        "print(data['site_longitude'].value_counts())\n",
        "plt.figure(figsize=(10,5))\n",
        "data['site_longitude'].value_counts(normalize=True).plot(kind='bar')\n",
        "plt.ylabel('counts')\n",
        "plt.xlabel('site_longitude')"
      ]
    },
    {
      "cell_type": "markdown",
      "source": [
        "### Label encoding the cat features "
      ],
      "metadata": {
        "id": "RjR4eBquB_GN"
      }
    },
    {
      "cell_type": "code",
      "execution_count": null,
      "metadata": {
        "id": "SnvwTT_qsKRA"
      },
      "outputs": [],
      "source": [
        "from sklearn.preprocessing import LabelEncoder\n",
        "le = LabelEncoder()\n",
        "\n",
        "le_columns = [col for col in data.select_dtypes('object').columns if col not in ['ID','date']]\n",
        "\n",
        "for col in le_columns:\n",
        "   data[col] = le.fit_transform(data[col])"
      ]
    },
    {
      "cell_type": "markdown",
      "source": [
        "### Convert datetime variables to datetime objects"
      ],
      "metadata": {
        "id": "iYcRte1jCGZj"
      }
    },
    {
      "cell_type": "code",
      "execution_count": null,
      "metadata": {
        "id": "ovKP1T40sKRA"
      },
      "outputs": [],
      "source": [
        "data[\"date\"] = pd.to_datetime(data.date)"
      ]
    },
    {
      "cell_type": "markdown",
      "metadata": {
        "id": "RHwX0WmJsKRC"
      },
      "source": [
        "## FEATURE ENGINEERING"
      ]
    },
    {
      "cell_type": "code",
      "execution_count": null,
      "metadata": {
        "id": "I6JyBk0nsKRC"
      },
      "outputs": [],
      "source": [
        "data['lat_lon'] = data['site_latitude'].astype(str) + '_' + data['site_longitude'].astype(str)"
      ]
    },
    {
      "cell_type": "markdown",
      "source": [
        "### Lag cols\n",
        "* This was supposed to be done very carefully by grouping with the device or the place\n",
        "* for me the previous day values were very meaningful\n"
      ],
      "metadata": {
        "id": "5MixiEs0CNk5"
      }
    },
    {
      "cell_type": "code",
      "execution_count": null,
      "metadata": {
        "id": "AyqDmYwssKRE"
      },
      "outputs": [],
      "source": [
        "lag_cols =[ col for col in data.columns if col not in ['ID','date','device','site_latitude','site_longitude','lat_lon',\n",
        "                                                      'UvAerosolIndex_sensor_zenith_angle','UvAerosolIndex_sensor_azimuth_angle','SulphurDioxide_sensor_zenith_angle','pm2_5',  \n",
        "    'SulphurDioxide_SO2_column_number_density_amf','SulphurDioxide_SO2_column_number_density_15km','Ozone_O3_slant_column_number_density','Ozone_sensor_zenith_angle','Ozone_solar_zenith_angle','Cloud_sensor_azimuth_angle','UvAerosolIndex_absorbing_aerosol_index']]\n",
        "\n",
        "for col in lag_cols:\n",
        "\n",
        "    for i in range(1, 2):#\n",
        "        data[f'prev_{col}_{i}'] = data.groupby('device')[col].shift(i)\n",
        "           \n",
        "    data[f'gb_feature_place{col}_{i}']  = data.groupby(['device'])[col].transform('min')\n",
        "    data[f'gb_feature_place2{col}_{i}'] = data.groupby(['CarbonMonoxide_CO_column_number_density'])[col].transform('max') # -> This line"
      ]
    },
    {
      "cell_type": "markdown",
      "source": [
        "## Date Features "
      ],
      "metadata": {
        "id": "hSw7wTwICheG"
      }
    },
    {
      "cell_type": "code",
      "execution_count": null,
      "metadata": {
        "id": "ApUxzxaFsKRE"
      },
      "outputs": [],
      "source": [
        "# Extract day, month year and hour from the Datetime column\n",
        "# day\n",
        "data['Datetime_day'] = data.date.dt.day\n",
        "\n",
        "# month\n",
        "data['Datetime_month'] = data.date.dt.month\n",
        "\n",
        "\n",
        "data['weekday'] =data.date.dt.weekday\n",
        "\n",
        "data['month_day'] = data['Datetime_month'].astype(str) + '_' + data['Datetime_day'].astype(str)\n",
        "data['month_wkday'] = data['Datetime_month'].astype(str) + '_' + data['weekday'].astype(str)\n",
        "\n"
      ]
    },
    {
      "cell_type": "code",
      "execution_count": null,
      "metadata": {
        "id": "XPcLH0itsKRE"
      },
      "outputs": [],
      "source": [
        "le_columns = ['month_day','month_wkday','lat_lon','date']\n",
        "\n",
        "for col in le_columns:\n",
        "   data[col] = le.fit_transform(data[col])"
      ]
    },
    {
      "cell_type": "code",
      "execution_count": null,
      "metadata": {
        "colab": {
          "base_uri": "https://localhost:8080/",
          "height": 459
        },
        "id": "mbB9QfgXsKRF",
        "outputId": "5565748f-f1d9-4f3e-ec7d-8f140a84b981"
      },
      "outputs": [
        {
          "output_type": "display_data",
          "data": {
            "text/plain": [
              "<Figure size 1008x504 with 1 Axes>"
            ],
            "image/png": "[encoded data removed]"
          },
          "metadata": {
            "needs_background": "light"
          }
        }
      ],
      "source": [
        "# Datetime month countplot\n",
        "plt.figure(figsize = (14, 7))\n",
        "sns.countplot(x = 'Datetime_month', data = data)\n",
        "plt.title('Datetime month count plot')\n",
        "plt.show()"
      ]
    },
    {
      "cell_type": "markdown",
      "source": [
        "### Count encoding"
      ],
      "metadata": {
        "id": "NTPmcURzCnWG"
      }
    },
    {
      "cell_type": "code",
      "execution_count": null,
      "metadata": {
        "id": "r1WqeR5WsKRF"
      },
      "outputs": [],
      "source": [
        "cat_cols = ['device','lat_lon','site_latitude','site_longitude','weekday','month_day','month_wkday','humidity','temp_mean']\n",
        "\n",
        "## Count of unique features\n",
        "for i in cat_cols:\n",
        "    data['count_'+i] = data[i].map(data[i].value_counts())\n",
        "# cat_cols"
      ]
    },
    {
      "cell_type": "markdown",
      "source": [
        "## Separate the Train and test data"
      ],
      "metadata": {
        "id": "524m-KJrCrsw"
      }
    },
    {
      "cell_type": "code",
      "execution_count": null,
      "metadata": {
        "colab": {
          "base_uri": "https://localhost:8080/"
        },
        "id": "Qej6B63_sKRF",
        "outputId": "4ea0802f-0e34-4a8d-c9f9-37af18c58442"
      },
      "outputs": [
        {
          "output_type": "execute_result",
          "data": {
            "text/plain": [
              "((9923, 176), (4254, 176))"
            ]
          },
          "metadata": {},
          "execution_count": 40
        }
      ],
      "source": [
        " train_df = data[:ntrain]\n",
        "test_df = data[ntrain:]\n",
        "\n",
        "# Check the shapes of the split dataset\n",
        "train_df.shape, test_df.shape"
      ]
    },
    {
      "cell_type": "markdown",
      "source": [
        "## Modelling"
      ],
      "metadata": {
        "id": "TeNw96jWCyeJ"
      }
    },
    {
      "cell_type": "code",
      "execution_count": null,
      "metadata": {
        "colab": {
          "base_uri": "https://localhost:8080/"
        },
        "id": "_MkQdtw3sKRG",
        "outputId": "7d047870-e180-4614-f9c7-d331f77d5d47"
      },
      "outputs": [
        {
          "output_type": "execute_result",
          "data": {
            "text/plain": [
              "((2481, 160), (7442, 160), (2481,), (7442,), (4254, 160))"
            ]
          },
          "metadata": {},
          "execution_count": 42
        }
      ],
      "source": [
        "# Select main columns to be used in training\n",
        "main_cols = train_df.columns.difference([\n",
        "    'temp_mean_sum','humidity_max','UvAerosolIndex_sensor_zenith_angle','UvAerosolIndex_sensor_azimuth_angle','SulphurDioxide_sensor_zenith_angle','ID',\n",
        "    'SulphurDioxide_SO2_column_number_density_amf','SulphurDioxide_SO2_column_number_density_15km', \n",
        "    'UvAerosolIndex_absorbing_aerosol_index','weekday','count_month_wkday',\n",
        "    'pm2_5','Datetime_hour','temp_mean','Ozone_O3_slant_column_number_density','Ozone_sensor_zenith_angle','Ozone_solar_zenith_angle','Cloud_sensor_azimuth_angle','device','site_longitude','site_latitude','humidity'])\n"
      ]
    },
    {
      "cell_type": "code",
      "execution_count": null,
      "metadata": {
        "colab": {
          "base_uri": "https://localhost:8080/"
        },
        "id": "WVhisGoPsKRH",
        "outputId": "46803d11-98fc-40bd-beb2-180ef61de9d3"
      },
      "outputs": [
        {
          "output_type": "execute_result",
          "data": {
            "text/plain": [
              "((9923, 160), (4254, 160))"
            ]
          },
          "metadata": {},
          "execution_count": 43
        }
      ],
      "source": [
        "X = train_df[main_cols]\n",
        "y = train_df['pm2_5']\n",
        "X_test = test_df[main_cols] \n",
        "X.shape,X_test.shape"
      ]
    },
    {
      "cell_type": "markdown",
      "source": [
        "## Cross Validation\n",
        "* I tried all kfold was not reliable. Tried stratifiedkfold was not reliable. Tried Timeseriessplit and was not giving me good results. Lastly I Tried GroupTimeSeriesSplit which was a bit reliable but not entirely"
      ],
      "metadata": {
        "id": "7epDTgwEC9-e"
      }
    },
    {
      "cell_type": "code",
      "execution_count": null,
      "metadata": {
        "id": "WuHWTmjYsKRI"
      },
      "outputs": [],
      "source": [
        "from sklearn.model_selection._split import _BaseKFold, indexable, _num_samples\n",
        "from sklearn.utils.validation import _deprecate_positional_args\n",
        "\n",
        "# https://github.com/getgaurav2/scikit-learn/blob/d4a3af5cc9da3a76f0266932644b884c99724c57/sklearn/model_selection/_split.py#L2243\n",
        "class GroupTimeSeriesSplit(_BaseKFold):\n",
        "    \"\"\"Time Series cross-validator variant with non-overlapping groups.\n",
        "    Provides train/test indices to split time series data samples\n",
        "    that are observed at fixed time intervals according to a\n",
        "    third-party provided group.\n",
        "    In each split, test indices must be higher than before, and thus shuffling\n",
        "    in cross validator is inappropriate.\n",
        "    This cross-validation object is a variation of :class:`KFold`.\n",
        "    In the kth split, it returns first k folds as train set and the\n",
        "    (k+1)th fold as test set.\n",
        "    The same group will not appear in two different folds (the number of\n",
        "    distinct groups has to be at least equal to the number of folds).\n",
        "    Note that unlike standard cross-validation methods, successive\n",
        "    training sets are supersets of those that come before them.\n",
        "    Read more in the :ref:`User Guide <cross_validation>`.\n",
        "    Parameters\n",
        "    ----------\n",
        "    n_splits : int, default=5\n",
        "        Number of splits. Must be at least 2.\n",
        "    max_train_size : int, default=None\n",
        "        Maximum size for a single training set.\n",
        "    Examples\n",
        "    --------\n",
        "    >>> import numpy as np\n",
        "    >>> from sklearn.model_selection import GroupTimeSeriesSplit\n",
        "    >>> groups = np.array(['a', 'a', 'a', 'a', 'a', 'a',\\\n",
        "                           'b', 'b', 'b', 'b', 'b',\\\n",
        "                           'c', 'c', 'c', 'c',\\\n",
        "                           'd', 'd', 'd'])\n",
        "    >>> gtss = GroupTimeSeriesSplit(n_splits=3)\n",
        "    >>> for train_idx, test_idx in gtss.split(groups, groups=groups):\n",
        "    ...     print(\"TRAIN:\", train_idx, \"TEST:\", test_idx)\n",
        "    ...     print(\"TRAIN GROUP:\", groups[train_idx],\\\n",
        "                  \"TEST GROUP:\", groups[test_idx])\n",
        "    TRAIN: [0, 1, 2, 3, 4, 5] TEST: [6, 7, 8, 9, 10]\n",
        "    TRAIN GROUP: ['a' 'a' 'a' 'a' 'a' 'a']\\\n",
        "    TEST GROUP: ['b' 'b' 'b' 'b' 'b']\n",
        "    TRAIN: [0, 1, 2, 3, 4, 5, 6, 7, 8, 9, 10] TEST: [11, 12, 13, 14]\n",
        "    TRAIN GROUP: ['a' 'a' 'a' 'a' 'a' 'a' 'b' 'b' 'b' 'b' 'b']\\\n",
        "    TEST GROUP: ['c' 'c' 'c' 'c']\n",
        "    TRAIN: [0, 1, 2, 3, 4, 5, 6, 7, 8, 9, 10, 11, 12, 13, 14]\\\n",
        "    TEST: [15, 16, 17]\n",
        "    TRAIN GROUP: ['a' 'a' 'a' 'a' 'a' 'a' 'b' 'b' 'b' 'b' 'b' 'c' 'c' 'c' 'c']\\\n",
        "    TEST GROUP: ['d' 'd' 'd']\n",
        "    \"\"\"\n",
        "    @_deprecate_positional_args\n",
        "    def __init__(self,\n",
        "                 n_splits=5,\n",
        "                 *,\n",
        "                 max_train_size=None\n",
        "                 ):\n",
        "        super().__init__(n_splits, shuffle=False, random_state=None)\n",
        "        self.max_train_size = max_train_size\n",
        "\n",
        "    def split(self, X, y=None, groups=None):\n",
        "        \"\"\"Generate indices to split data into training and test set.\n",
        "        Parameters\n",
        "        ----------\n",
        "        X : array-like of shape (n_samples, n_features)\n",
        "            Training data, where n_samples is the number of samples\n",
        "            and n_features is the number of features.\n",
        "        y : array-like of shape (n_samples,)\n",
        "            Always ignored, exists for compatibility.\n",
        "        groups : array-like of shape (n_samples,)\n",
        "            Group labels for the samples used while splitting the dataset into\n",
        "            train/test set.\n",
        "        Yields\n",
        "        ------\n",
        "        train : ndarray\n",
        "            The training set indices for that split.\n",
        "        test : ndarray\n",
        "            The testing set indices for that split.\n",
        "        \"\"\"\n",
        "        if groups is None:\n",
        "            raise ValueError(\n",
        "                \"The 'groups' parameter should not be None\")\n",
        "        X, y, groups = indexable(X, y, groups)\n",
        "        n_samples = _num_samples(X)\n",
        "        n_splits = self.n_splits\n",
        "        n_folds = n_splits + 1\n",
        "        group_dict = {}\n",
        "        u, ind = np.unique(groups, return_index=True)\n",
        "        unique_groups = u[np.argsort(ind)]\n",
        "        n_samples = _num_samples(X)\n",
        "        n_groups = _num_samples(unique_groups)\n",
        "        for idx in np.arange(n_samples):\n",
        "            if (groups[idx] in group_dict):\n",
        "                group_dict[groups[idx]].append(idx)\n",
        "            else:\n",
        "                group_dict[groups[idx]] = [idx]\n",
        "        if n_folds > n_groups:\n",
        "            raise ValueError(\n",
        "                (\"Cannot have number of folds={0} greater than\"\n",
        "                 \" the number of groups={1}\").format(n_folds,\n",
        "                                                     n_groups))\n",
        "        group_test_size = n_groups // n_folds\n",
        "        group_test_starts = range(n_groups - n_splits * group_test_size,\n",
        "                                  n_groups, group_test_size)\n",
        "        for group_test_start in group_test_starts:\n",
        "            train_array = []\n",
        "            test_array = []\n",
        "            for train_group_idx in unique_groups[:group_test_start]:\n",
        "                train_array_tmp = group_dict[train_group_idx]\n",
        "                train_array = np.sort(np.unique(\n",
        "                                      np.concatenate((train_array,\n",
        "                                                      train_array_tmp)),\n",
        "                                      axis=None), axis=None)\n",
        "            train_end = train_array.size\n",
        "            if self.max_train_size and self.max_train_size < train_end:\n",
        "                train_array = train_array[train_end -\n",
        "                                          self.max_train_size:train_end]\n",
        "            for test_group_idx in unique_groups[group_test_start:\n",
        "                                                group_test_start +\n",
        "                                                group_test_size]:\n",
        "                test_array_tmp = group_dict[test_group_idx]\n",
        "                test_array = np.sort(np.unique(\n",
        "                                              np.concatenate((test_array,\n",
        "                                                              test_array_tmp)),\n",
        "                                     axis=None), axis=None)\n",
        "            yield [int(i) for i in train_array], [int(i) for i in test_array]"
      ]
    },
    {
      "cell_type": "markdown",
      "source": [
        "## CATBOOST MODELLING"
      ],
      "metadata": {
        "id": "zx2MTeqUHftl"
      }
    },
    {
      "cell_type": "code",
      "execution_count": null,
      "metadata": {
        "colab": {
          "base_uri": "https://localhost:8080/"
        },
        "id": "VuxPnxSKsKRI",
        "outputId": "9a8e89f3-b90d-44f9-c134-2bbe5eba1f98"
      },
      "outputs": [
        {
          "output_type": "stream",
          "name": "stdout",
          "text": [
            "err:  9.388156294888173\n",
            "err:  13.177427743918168\n",
            "err:  12.830469670957\n",
            "err:  12.883971734075365\n",
            "err:  15.430324228869381\n",
            "err:  18.303130532419885\n",
            "err:  12.026279649030238\n",
            "err:  18.350998351990857\n",
            "err:  19.65433349762437\n",
            "err:  14.938577050408721\n",
            "14.698366875418216\n"
          ]
        }
      ],
      "source": [
        "fold_pred=[]\n",
        "oof_pred = []\n",
        "\n",
        "params = {'max_depth': 5, 'learning_rate': 0.054311625828468046, 'l2_leaf_reg': 0.023393133390917083,'iterations':10000}\n",
        "\n",
        "\n",
        "\n",
        "\n",
        "\n",
        "fold= GroupTimeSeriesSplit(n_splits=10)\n",
        "i=1\n",
        "for train_index, test_index in fold.split(X,y, groups = X['Datetime_month']):     \n",
        "  \n",
        "    X_train, X_test = X.iloc[train_index], X.iloc[test_index]\n",
        "    y_train, y_test = (y.iloc[train_index]), y.iloc[test_index]\n",
        "\n",
        "    model = catt.CatBoostRegressor(**params,eval_metric='MAE',random_state=42)\n",
        "    model.fit(X_train,y_train,eval_set=[(X_train,y_train),(X_test, y_test)], early_stopping_rounds=500, verbose = False)#erly100\n",
        "\n",
        "    preds= model.predict(X_test)\n",
        "    print(\"err: \",(mean_absolute_error(y_test,(preds))))  #Reverse transformation\n",
        "    oof_pred.append(mean_absolute_error(y_test,(preds)))\n",
        "    p2 = model.predict(test_df[X.columns])\n",
        "    fold_pred.append((p2))\n",
        "    \n",
        "\n",
        "print(np.mean(oof_pred))"
      ]
    },
    {
      "cell_type": "markdown",
      "source": [
        "## Submission"
      ],
      "metadata": {
        "id": "mwA1KYmIEFLI"
      }
    },
    {
      "cell_type": "code",
      "execution_count": null,
      "metadata": {
        "colab": {
          "base_uri": "https://localhost:8080/",
          "height": 207
        },
        "id": "fdXGGyGZsKRK",
        "outputId": "8bef2181-9090-443f-9034-63ec638ea14c"
      },
      "outputs": [
        {
          "output_type": "execute_result",
          "data": {
            "text/plain": [
              "                 ID    pm2_5\n",
              "9923  ID_OC21YTIKX2 66.55684\n",
              "9924  ID_ZS2RAN8HZT 61.80432\n",
              "9925  ID_X5RLD131U1 58.96787\n",
              "9926  ID_3O2ZUT59OO 62.66277\n",
              "9927  ID_WGF1986WB4 46.86732"
            ],
            "text/html": [
              "\n",
              "  <div id=\"df-61089c1a-40e7-4f03-851b-39066422b5dc\">\n",
              "    <div class=\"colab-df-container\">\n",
              "      <div>\n",
              "<style scoped>\n",
              "    .dataframe tbody tr th:only-of-type {\n",
              "        vertical-align: middle;\n",
              "    }\n",
              "\n",
              "    .dataframe tbody tr th {\n",
              "        vertical-align: top;\n",
              "    }\n",
              "\n",
              "    .dataframe thead th {\n",
              "        text-align: right;\n",
              "    }\n",
              "</style>\n",
              "<table border=\"1\" class=\"dataframe\">\n",
              "  <thead>\n",
              "    <tr style=\"text-align: right;\">\n",
              "      <th></th>\n",
              "      <th>ID</th>\n",
              "      <th>pm2_5</th>\n",
              "    </tr>\n",
              "  </thead>\n",
              "  <tbody>\n",
              "    <tr>\n",
              "      <th>9923</th>\n",
              "      <td>ID_OC21YTIKX2</td>\n",
              "      <td>66.55684</td>\n",
              "    </tr>\n",
              "    <tr>\n",
              "      <th>9924</th>\n",
              "      <td>ID_ZS2RAN8HZT</td>\n",
              "      <td>61.80432</td>\n",
              "    </tr>\n",
              "    <tr>\n",
              "      <th>9925</th>\n",
              "      <td>ID_X5RLD131U1</td>\n",
              "      <td>58.96787</td>\n",
              "    </tr>\n",
              "    <tr>\n",
              "      <th>9926</th>\n",
              "      <td>ID_3O2ZUT59OO</td>\n",
              "      <td>62.66277</td>\n",
              "    </tr>\n",
              "    <tr>\n",
              "      <th>9927</th>\n",
              "      <td>ID_WGF1986WB4</td>\n",
              "      <td>46.86732</td>\n",
              "    </tr>\n",
              "  </tbody>\n",
              "</table>\n",
              "</div>\n",
              "      <button class=\"colab-df-convert\" onclick=\"convertToInteractive('df-61089c1a-40e7-4f03-851b-39066422b5dc')\"\n",
              "              title=\"Convert this dataframe to an interactive table.\"\n",
              "              style=\"display:none;\">\n",
              "        \n",
              "  <svg xmlns=\"http://www.w3.org/2000/svg\" height=\"24px\"viewBox=\"0 0 24 24\"\n",
              "       width=\"24px\">\n",
              "    <path d=\"M0 0h24v24H0V0z\" fill=\"none\"/>\n",
              "    <path d=\"M18.56 5.44l.94 2.06.94-2.06 2.06-.94-2.06-.94-.94-2.06-.94 2.06-2.06.94zm-11 1L8.5 8.5l.94-2.06 2.06-.94-2.06-.94L8.5 2.5l-.94 2.06-2.06.94zm10 10l.94 2.06.94-2.06 2.06-.94-2.06-.94-.94-2.06-.94 2.06-2.06.94z\"/><path d=\"M17.41 7.96l-1.37-1.37c-.4-.4-.92-.59-1.43-.59-.52 0-1.04.2-1.43.59L10.3 9.45l-7.72 7.72c-.78.78-.78 2.05 0 2.83L4 21.41c.39.39.9.59 1.41.59.51 0 1.02-.2 1.41-.59l7.78-7.78 2.81-2.81c.8-.78.8-2.07 0-2.86zM5.41 20L4 18.59l7.72-7.72 1.47 1.35L5.41 20z\"/>\n",
              "  </svg>\n",
              "      </button>\n",
              "      \n",
              "  <style>\n",
              "    .colab-df-container {\n",
              "      display:flex;\n",
              "      flex-wrap:wrap;\n",
              "      gap: 12px;\n",
              "    }\n",
              "\n",
              "    .colab-df-convert {\n",
              "      background-color: #E8F0FE;\n",
              "      border: none;\n",
              "      border-radius: 50%;\n",
              "      cursor: pointer;\n",
              "      display: none;\n",
              "      fill: #1967D2;\n",
              "      height: 32px;\n",
              "      padding: 0 0 0 0;\n",
              "      width: 32px;\n",
              "    }\n",
              "\n",
              "    .colab-df-convert:hover {\n",
              "      background-color: #E2EBFA;\n",
              "      box-shadow: 0px 1px 2px rgba(60, 64, 67, 0.3), 0px 1px 3px 1px rgba(60, 64, 67, 0.15);\n",
              "      fill: #174EA6;\n",
              "    }\n",
              "\n",
              "    [theme=dark] .colab-df-convert {\n",
              "      background-color: #3B4455;\n",
              "      fill: #D2E3FC;\n",
              "    }\n",
              "\n",
              "    [theme=dark] .colab-df-convert:hover {\n",
              "      background-color: #434B5C;\n",
              "      box-shadow: 0px 1px 3px 1px rgba(0, 0, 0, 0.15);\n",
              "      filter: drop-shadow(0px 1px 2px rgba(0, 0, 0, 0.3));\n",
              "      fill: #FFFFFF;\n",
              "    }\n",
              "  </style>\n",
              "\n",
              "      <script>\n",
              "        const buttonEl =\n",
              "          document.querySelector('#df-61089c1a-40e7-4f03-851b-39066422b5dc button.colab-df-convert');\n",
              "        buttonEl.style.display =\n",
              "          google.colab.kernel.accessAllowed ? 'block' : 'none';\n",
              "\n",
              "        async function convertToInteractive(key) {\n",
              "          const element = document.querySelector('#df-61089c1a-40e7-4f03-851b-39066422b5dc');\n",
              "          const dataTable =\n",
              "            await google.colab.kernel.invokeFunction('convertToInteractive',\n",
              "                                                     [key], {});\n",
              "          if (!dataTable) return;\n",
              "\n",
              "          const docLinkHtml = 'Like what you see? Visit the ' +\n",
              "            '<a target=\"_blank\" href=https://colab.research.google.com/notebooks/data_table.ipynb>data table notebook</a>'\n",
              "            + ' to learn more about interactive tables.';\n",
              "          element.innerHTML = '';\n",
              "          dataTable['output_type'] = 'display_data';\n",
              "          await google.colab.output.renderOutput(dataTable, element);\n",
              "          const docLink = document.createElement('div');\n",
              "          docLink.innerHTML = docLinkHtml;\n",
              "          element.appendChild(docLink);\n",
              "        }\n",
              "      </script>\n",
              "    </div>\n",
              "  </div>\n",
              "  "
            ]
          },
          "metadata": {},
          "execution_count": 50
        }
      ],
      "source": [
        "sub_df = test_df[['ID']].copy()\n",
        "sub_df['pm2_5'] = np.mean(fold_pred, axis = 0)\n",
        "sub_df.head()"
      ]
    },
    {
      "cell_type": "code",
      "execution_count": null,
      "metadata": {
        "colab": {
          "base_uri": "https://localhost:8080/",
          "height": 297
        },
        "id": "yu6HKDtTsKRL",
        "outputId": "1c48217e-b10a-4f3f-b345-d129543dd98d"
      },
      "outputs": [
        {
          "output_type": "execute_result",
          "data": {
            "text/plain": [
              "<matplotlib.axes._subplots.AxesSubplot at 0x7f4c5320ca90>"
            ]
          },
          "metadata": {},
          "execution_count": 51
        },
        {
          "output_type": "display_data",
          "data": {
            "text/plain": [
              "<Figure size 432x288 with 1 Axes>"
            ],
            "image/png": "[encoded data removed]"
          },
          "metadata": {
            "needs_background": "light"
          }
        }
      ],
      "source": [
        "sns.distplot(sub_df['pm2_5'])"
      ]
    },
    {
      "cell_type": "code",
      "execution_count": null,
      "metadata": {
        "id": "jq-MQQnqsKRM"
      },
      "outputs": [],
      "source": [
        "sub_df.to_csv('catboost_ts_1.csv', index=False)\n"
      ]
    },
    {
      "cell_type": "markdown",
      "source": [
        "## Conclusion\n",
        "* filling nans the right way was key\n",
        "* This model scores 12.80 on the lb with only 160 features which is pretty awesome(seventh on the lb but too bad I did not choose this)\n",
        "* Thank you @ Tauil and @ Suresh for teaming up with me"
      ],
      "metadata": {
        "id": "1OZLWZ3PEKha"
      }
    },
    {
      "cell_type": "code",
      "source": [],
      "metadata": {
        "id": "aFIWDl2SEMfo"
      },
      "execution_count": null,
      "outputs": []
    }
  ],
  "metadata": {
    "kernelspec": {
      "display_name": "Python 3.10.4 ('Kuala')",
      "language": "python",
      "name": "python3"
    },
    "language_info": {
      "codemirror_mode": {
        "name": "ipython",
        "version": 3
      },
      "file_extension": ".py",
      "mimetype": "text/x-python",
      "name": "python",
      "nbconvert_exporter": "python",
      "pygments_lexer": "ipython3",
      "version": "3.10.4"
    },
    "orig_nbformat": 4,
    "vscode": {
      "interpreter": {
        "hash": "478a76ac47b5bc9fe0d4d1a239bf14a8186d6d775e04031af2ccd5b7d325f96b"
      }
    },
    "colab": {
      "provenance": [],
      "include_colab_link": true
    },
    "accelerator": "GPU",
    "widgets": {
      "application/vnd.jupyter.widget-state+json": {
        "df6eb34c87fb4feeaee646689d1c97b1": {
          "model_module": "@jupyter-widgets/output",
          "model_name": "OutputModel",
          "model_module_version": "1.0.0",
          "state": {
            "_dom_classes": [],
            "_model_module": "@jupyter-widgets/output",
            "_model_module_version": "1.0.0",
            "_model_name": "OutputModel",
            "_view_count": null,
            "_view_module": "@jupyter-widgets/output",
            "_view_module_version": "1.0.0",
            "_view_name": "OutputView",
            "layout": "IPY_MODEL_32b2dfe39882450fb4784fc9c1cb1eca",
            "msg_id": "",
            "outputs": [
              {
                "output_type": "display_data",
                "data": {
                  "text/plain": "\u001b[32m⠙\u001b[0m  sample_submission    \u001b[38;2;21;127;61m━━━━━━━━━━\u001b[0m \u001b[38;2;21;127;61mLOADED\u001b[0m \u001b[39m[\u001b[0m\u001b[38;2;155;155;159m0:00:01\u001b[0m\u001b[39m]\u001b[0m \n",
                  "text/html": "<pre style=\"white-space:pre;overflow-x:auto;line-height:normal;font-family:Menlo,'DejaVu Sans Mono',consolas,'Courier New',monospace\"><span style=\"color: #008000; text-decoration-color: #008000\">⠙</span>  sample_submission    <span style=\"color: #157f3d; text-decoration-color: #157f3d\">━━━━━━━━━━</span> <span style=\"color: #157f3d; text-decoration-color: #157f3d\">LOADED</span> <span style=\"color: #000000; text-decoration-color: #000000\">[</span><span style=\"color: #9b9b9f; text-decoration-color: #9b9b9f\">0:00:01</span><span style=\"color: #000000; text-decoration-color: #000000\">]</span> \n</pre>\n"
                },
                "metadata": {}
              }
            ]
          }
        },
        "32b2dfe39882450fb4784fc9c1cb1eca": {
          "model_module": "@jupyter-widgets/base",
          "model_name": "LayoutModel",
          "model_module_version": "1.2.0",
          "state": {
            "_model_module": "@jupyter-widgets/base",
            "_model_module_version": "1.2.0",
            "_model_name": "LayoutModel",
            "_view_count": null,
            "_view_module": "@jupyter-widgets/base",
            "_view_module_version": "1.2.0",
            "_view_name": "LayoutView",
            "align_content": null,
            "align_items": null,
            "align_self": null,
            "border": null,
            "bottom": null,
            "display": null,
            "flex": null,
            "flex_flow": null,
            "grid_area": null,
            "grid_auto_columns": null,
            "grid_auto_flow": null,
            "grid_auto_rows": null,
            "grid_column": null,
            "grid_gap": null,
            "grid_row": null,
            "grid_template_areas": null,
            "grid_template_columns": null,
            "grid_template_rows": null,
            "height": null,
            "justify_content": null,
            "justify_items": null,
            "left": null,
            "margin": null,
            "max_height": null,
            "max_width": null,
            "min_height": null,
            "min_width": null,
            "object_fit": null,
            "object_position": null,
            "order": null,
            "overflow": null,
            "overflow_x": null,
            "overflow_y": null,
            "padding": null,
            "right": null,
            "top": null,
            "visibility": null,
            "width": null
          }
        },
        "3dd3f9e2e9aa4817ab9a828df87c469f": {
          "model_module": "@jupyter-widgets/output",
          "model_name": "OutputModel",
          "model_module_version": "1.0.0",
          "state": {
            "_dom_classes": [],
            "_model_module": "@jupyter-widgets/output",
            "_model_module_version": "1.0.0",
            "_model_name": "OutputModel",
            "_view_count": null,
            "_view_module": "@jupyter-widgets/output",
            "_view_module_version": "1.0.0",
            "_view_name": "OutputView",
            "layout": "IPY_MODEL_038016f346a64a95a1c8aeaed4ec92cd",
            "msg_id": "",
            "outputs": [
              {
                "output_type": "display_data",
                "data": {
                  "text/plain": "\u001b[32m⠦\u001b[0m  test                 \u001b[38;2;21;127;61m━━━━━━━━━━\u001b[0m \u001b[38;2;21;127;61mLOADED\u001b[0m \u001b[39m[\u001b[0m\u001b[38;2;155;155;159m0:00:02\u001b[0m\u001b[39m]\u001b[0m \n",
                  "text/html": "<pre style=\"white-space:pre;overflow-x:auto;line-height:normal;font-family:Menlo,'DejaVu Sans Mono',consolas,'Courier New',monospace\"><span style=\"color: #008000; text-decoration-color: #008000\">⠦</span>  test                 <span style=\"color: #157f3d; text-decoration-color: #157f3d\">━━━━━━━━━━</span> <span style=\"color: #157f3d; text-decoration-color: #157f3d\">LOADED</span> <span style=\"color: #000000; text-decoration-color: #000000\">[</span><span style=\"color: #9b9b9f; text-decoration-color: #9b9b9f\">0:00:02</span><span style=\"color: #000000; text-decoration-color: #000000\">]</span> \n</pre>\n"
                },
                "metadata": {}
              }
            ]
          }
        },
        "038016f346a64a95a1c8aeaed4ec92cd": {
          "model_module": "@jupyter-widgets/base",
          "model_name": "LayoutModel",
          "model_module_version": "1.2.0",
          "state": {
            "_model_module": "@jupyter-widgets/base",
            "_model_module_version": "1.2.0",
            "_model_name": "LayoutModel",
            "_view_count": null,
            "_view_module": "@jupyter-widgets/base",
            "_view_module_version": "1.2.0",
            "_view_name": "LayoutView",
            "align_content": null,
            "align_items": null,
            "align_self": null,
            "border": null,
            "bottom": null,
            "display": null,
            "flex": null,
            "flex_flow": null,
            "grid_area": null,
            "grid_auto_columns": null,
            "grid_auto_flow": null,
            "grid_auto_rows": null,
            "grid_column": null,
            "grid_gap": null,
            "grid_row": null,
            "grid_template_areas": null,
            "grid_template_columns": null,
            "grid_template_rows": null,
            "height": null,
            "justify_content": null,
            "justify_items": null,
            "left": null,
            "margin": null,
            "max_height": null,
            "max_width": null,
            "min_height": null,
            "min_width": null,
            "object_fit": null,
            "object_position": null,
            "order": null,
            "overflow": null,
            "overflow_x": null,
            "overflow_y": null,
            "padding": null,
            "right": null,
            "top": null,
            "visibility": null,
            "width": null
          }
        },
        "4a6b8968cb6749afb527bf3a75a45b09": {
          "model_module": "@jupyter-widgets/output",
          "model_name": "OutputModel",
          "model_module_version": "1.0.0",
          "state": {
            "_dom_classes": [],
            "_model_module": "@jupyter-widgets/output",
            "_model_module_version": "1.0.0",
            "_model_name": "OutputModel",
            "_view_count": null,
            "_view_module": "@jupyter-widgets/output",
            "_view_module_version": "1.0.0",
            "_view_name": "OutputView",
            "layout": "IPY_MODEL_8c1c69dadcc64cf3af286cc1ad0e0adb",
            "msg_id": "",
            "outputs": [
              {
                "output_type": "display_data",
                "data": {
                  "text/plain": "\u001b[32m⠇\u001b[0m  train                \u001b[38;2;21;127;61m━━━━━━━━━━\u001b[0m \u001b[38;2;21;127;61mLOADED\u001b[0m \u001b[39m[\u001b[0m\u001b[38;2;155;155;159m0:00:02\u001b[0m\u001b[39m]\u001b[0m \n",
                  "text/html": "<pre style=\"white-space:pre;overflow-x:auto;line-height:normal;font-family:Menlo,'DejaVu Sans Mono',consolas,'Courier New',monospace\"><span style=\"color: #008000; text-decoration-color: #008000\">⠇</span>  train                <span style=\"color: #157f3d; text-decoration-color: #157f3d\">━━━━━━━━━━</span> <span style=\"color: #157f3d; text-decoration-color: #157f3d\">LOADED</span> <span style=\"color: #000000; text-decoration-color: #000000\">[</span><span style=\"color: #9b9b9f; text-decoration-color: #9b9b9f\">0:00:02</span><span style=\"color: #000000; text-decoration-color: #000000\">]</span> \n</pre>\n"
                },
                "metadata": {}
              }
            ]
          }
        },
        "8c1c69dadcc64cf3af286cc1ad0e0adb": {
          "model_module": "@jupyter-widgets/base",
          "model_name": "LayoutModel",
          "model_module_version": "1.2.0",
          "state": {
            "_model_module": "@jupyter-widgets/base",
            "_model_module_version": "1.2.0",
            "_model_name": "LayoutModel",
            "_view_count": null,
            "_view_module": "@jupyter-widgets/base",
            "_view_module_version": "1.2.0",
            "_view_name": "LayoutView",
            "align_content": null,
            "align_items": null,
            "align_self": null,
            "border": null,
            "bottom": null,
            "display": null,
            "flex": null,
            "flex_flow": null,
            "grid_area": null,
            "grid_auto_columns": null,
            "grid_auto_flow": null,
            "grid_auto_rows": null,
            "grid_column": null,
            "grid_gap": null,
            "grid_row": null,
            "grid_template_areas": null,
            "grid_template_columns": null,
            "grid_template_rows": null,
            "height": null,
            "justify_content": null,
            "justify_items": null,
            "left": null,
            "margin": null,
            "max_height": null,
            "max_width": null,
            "min_height": null,
            "min_width": null,
            "object_fit": null,
            "object_position": null,
            "order": null,
            "overflow": null,
            "overflow_x": null,
            "overflow_y": null,
            "padding": null,
            "right": null,
            "top": null,
            "visibility": null,
            "width": null
          }
        }
      }
    }
  },
  "nbformat": 4,
  "nbformat_minor": 0
}